{
  "nbformat": 4,
  "nbformat_minor": 0,
  "metadata": {
    "colab": {
      "name": "DCGAN_.ipynb",
      "version": "0.3.2",
      "provenance": [],
      "collapsed_sections": [],
      "include_colab_link": true
    },
    "kernelspec": {
      "name": "python3",
      "display_name": "Python 3"
    },
    "accelerator": "GPU"
  },
  "cells": [
    {
      "cell_type": "markdown",
      "metadata": {
        "id": "view-in-github",
        "colab_type": "text"
      },
      "source": [
        "<a href=\"https://colab.research.google.com/github/GSukr/FashionMNIST_DCGAN_Keras/blob/GSukr-patch-1/DCGAN_.ipynb\" target=\"_parent\"><img src=\"https://colab.research.google.com/assets/colab-badge.svg\" alt=\"Open In Colab\"/></a>"
      ]
    },
    {
      "cell_type": "markdown",
      "metadata": {
        "id": "rWVZ8hsE-DGi",
        "colab_type": "text"
      },
      "source": [
        "The notebook creates a Deep convolutional generative adversarial network for FashionMNIST data with Keras library. It includes the following steps:\n",
        "1. Import necessary libraries.\n",
        "2. Define Generator architecture.\n",
        "3. Define Discriminator architecture.\n",
        "4. Compile DGGAN model.\n",
        "5. Train Generator and Discriminator with real images and fake ones drawn from normal distribution. \n",
        "6. Save generated images.\n",
        "\n",
        "\n",
        "\n",
        "\n",
        "Note: We first built the DCGAN architecture similar to https://colab.research.google.com/github/sakethkaparthi/Apparel-GAN/blob/master/Fashion_MNIST_GAN.ipynb#scrollTo=hz1JhdX7EL5a. However, that DCGAN produced only the images of shirts. We added batch normalization to Discriminator's network to address this issue. "
      ]
    },
    {
      "cell_type": "markdown",
      "metadata": {
        "id": "OOxH0RnIxoIn",
        "colab_type": "text"
      },
      "source": [
        "### Install required packages\n",
        "\n",
        "It is recommended to install the following packages: keras==2.1.2, keras_adversarial.\n",
        "Examples on how to install these dependencies are below:"
      ]
    },
    {
      "cell_type": "code",
      "metadata": {
        "id": "jv5GnCIR4yj0",
        "colab_type": "code",
        "outputId": "7b5917f3-4e34-4971-a710-3129949133b0",
        "colab": {
          "base_uri": "https://localhost:8080/",
          "height": 613
        }
      },
      "source": [
        "!pip install --force-reinstall keras==2.1.2 #install keras compatible with keras_adversarial"
      ],
      "execution_count": 1,
      "outputs": [
        {
          "output_type": "stream",
          "text": [
            "Collecting keras==2.1.2\n",
            "  Using cached https://files.pythonhosted.org/packages/68/89/58ee5f56a9c26957d97217db41780ebedca3154392cb903c3f8a08a52208/Keras-2.1.2-py2.py3-none-any.whl\n",
            "Collecting scipy>=0.14 (from keras==2.1.2)\n",
            "  Using cached https://files.pythonhosted.org/packages/72/4c/5f81e7264b0a7a8bd570810f48cd346ba36faedbd2ba255c873ad556de76/scipy-1.3.0-cp36-cp36m-manylinux1_x86_64.whl\n",
            "Collecting pyyaml (from keras==2.1.2)\n",
            "Collecting numpy>=1.9.1 (from keras==2.1.2)\n",
            "  Using cached https://files.pythonhosted.org/packages/87/2d/e4656149cbadd3a8a0369fcd1a9c7d61cc7b87b3903b85389c70c989a696/numpy-1.16.4-cp36-cp36m-manylinux1_x86_64.whl\n",
            "Collecting six>=1.9.0 (from keras==2.1.2)\n",
            "  Using cached https://files.pythonhosted.org/packages/73/fb/00a976f728d0d1fecfe898238ce23f502a721c0ac0ecfedb80e0d88c64e9/six-1.12.0-py2.py3-none-any.whl\n",
            "\u001b[31mERROR: textgenrnn 1.4.1 has requirement keras>=2.1.5, but you'll have keras 2.1.2 which is incompatible.\u001b[0m\n",
            "\u001b[31mERROR: jupyter-console 6.0.0 has requirement prompt-toolkit<2.1.0,>=2.0.0, but you'll have prompt-toolkit 1.0.16 which is incompatible.\u001b[0m\n",
            "\u001b[31mERROR: datascience 0.10.6 has requirement folium==0.2.1, but you'll have folium 0.8.3 which is incompatible.\u001b[0m\n",
            "\u001b[31mERROR: albumentations 0.1.12 has requirement imgaug<0.2.7,>=0.2.5, but you'll have imgaug 0.2.9 which is incompatible.\u001b[0m\n",
            "Installing collected packages: numpy, scipy, pyyaml, six, keras\n",
            "  Found existing installation: numpy 1.16.4\n",
            "    Uninstalling numpy-1.16.4:\n",
            "      Successfully uninstalled numpy-1.16.4\n",
            "  Found existing installation: scipy 1.3.0\n",
            "    Uninstalling scipy-1.3.0:\n",
            "      Successfully uninstalled scipy-1.3.0\n",
            "  Found existing installation: PyYAML 5.1\n",
            "    Uninstalling PyYAML-5.1:\n",
            "      Successfully uninstalled PyYAML-5.1\n",
            "  Found existing installation: six 1.12.0\n",
            "    Uninstalling six-1.12.0:\n",
            "      Successfully uninstalled six-1.12.0\n",
            "  Found existing installation: Keras 2.1.2\n",
            "    Uninstalling Keras-2.1.2:\n",
            "      Successfully uninstalled Keras-2.1.2\n",
            "Successfully installed keras-2.1.2 numpy-1.16.4 pyyaml-5.1 scipy-1.3.0 six-1.12.0\n"
          ],
          "name": "stdout"
        },
        {
          "output_type": "display_data",
          "data": {
            "application/vnd.colab-display-data+json": {
              "pip_warning": {
                "packages": [
                  "numpy",
                  "six"
                ]
              }
            }
          },
          "metadata": {
            "tags": []
          }
        }
      ]
    },
    {
      "cell_type": "code",
      "metadata": {
        "id": "mlCFg-ptw54u",
        "colab_type": "code",
        "outputId": "d5527446-8588-4805-d9e4-e57022b77c65",
        "colab": {
          "base_uri": "https://localhost:8080/",
          "height": 34
        }
      },
      "source": [
        "!git clone https://github.com/bstriner/keras_adversarial.git #clone keras_adversarial"
      ],
      "execution_count": 2,
      "outputs": [
        {
          "output_type": "stream",
          "text": [
            "fatal: destination path 'keras_adversarial' already exists and is not an empty directory.\n"
          ],
          "name": "stdout"
        }
      ]
    },
    {
      "cell_type": "code",
      "metadata": {
        "id": "FjAcQYIn4ICp",
        "colab_type": "code",
        "outputId": "d11b9e9a-1dd1-43d3-d384-c0f97eccd62b",
        "colab": {
          "base_uri": "https://localhost:8080/",
          "height": 1428
        }
      },
      "source": [
        "!cd keras_adversarial && python setup.py install #install keras_adversarial\n",
        "#you may restart the runtime "
      ],
      "execution_count": 3,
      "outputs": [
        {
          "output_type": "stream",
          "text": [
            "running install\n",
            "running bdist_egg\n",
            "running egg_info\n",
            "writing keras_adversarial.egg-info/PKG-INFO\n",
            "writing dependency_links to keras_adversarial.egg-info/dependency_links.txt\n",
            "writing requirements to keras_adversarial.egg-info/requires.txt\n",
            "writing top-level names to keras_adversarial.egg-info/top_level.txt\n",
            "writing manifest file 'keras_adversarial.egg-info/SOURCES.txt'\n",
            "installing library code to build/bdist.linux-x86_64/egg\n",
            "running install_lib\n",
            "running build_py\n",
            "creating build/bdist.linux-x86_64/egg\n",
            "creating build/bdist.linux-x86_64/egg/keras_adversarial\n",
            "copying build/lib/keras_adversarial/legacy.py -> build/bdist.linux-x86_64/egg/keras_adversarial\n",
            "copying build/lib/keras_adversarial/adversarial_optimizers.py -> build/bdist.linux-x86_64/egg/keras_adversarial\n",
            "copying build/lib/keras_adversarial/image_grid_callback.py -> build/bdist.linux-x86_64/egg/keras_adversarial\n",
            "copying build/lib/keras_adversarial/__init__.py -> build/bdist.linux-x86_64/egg/keras_adversarial\n",
            "copying build/lib/keras_adversarial/adversarial_utils.py -> build/bdist.linux-x86_64/egg/keras_adversarial\n",
            "creating build/bdist.linux-x86_64/egg/keras_adversarial/backend\n",
            "copying build/lib/keras_adversarial/backend/__init__.py -> build/bdist.linux-x86_64/egg/keras_adversarial/backend\n",
            "copying build/lib/keras_adversarial/backend/tensorflow_monkeypatch.py -> build/bdist.linux-x86_64/egg/keras_adversarial/backend\n",
            "copying build/lib/keras_adversarial/backend/tensorflow_backend.py -> build/bdist.linux-x86_64/egg/keras_adversarial/backend\n",
            "copying build/lib/keras_adversarial/backend/theano_backend.py -> build/bdist.linux-x86_64/egg/keras_adversarial/backend\n",
            "copying build/lib/keras_adversarial/adversarial_model.py -> build/bdist.linux-x86_64/egg/keras_adversarial\n",
            "copying build/lib/keras_adversarial/unrolled_optimizer.py -> build/bdist.linux-x86_64/egg/keras_adversarial\n",
            "copying build/lib/keras_adversarial/image_grid.py -> build/bdist.linux-x86_64/egg/keras_adversarial\n",
            "byte-compiling build/bdist.linux-x86_64/egg/keras_adversarial/legacy.py to legacy.cpython-36.pyc\n",
            "byte-compiling build/bdist.linux-x86_64/egg/keras_adversarial/adversarial_optimizers.py to adversarial_optimizers.cpython-36.pyc\n",
            "byte-compiling build/bdist.linux-x86_64/egg/keras_adversarial/image_grid_callback.py to image_grid_callback.cpython-36.pyc\n",
            "byte-compiling build/bdist.linux-x86_64/egg/keras_adversarial/__init__.py to __init__.cpython-36.pyc\n",
            "byte-compiling build/bdist.linux-x86_64/egg/keras_adversarial/adversarial_utils.py to adversarial_utils.cpython-36.pyc\n",
            "byte-compiling build/bdist.linux-x86_64/egg/keras_adversarial/backend/__init__.py to __init__.cpython-36.pyc\n",
            "byte-compiling build/bdist.linux-x86_64/egg/keras_adversarial/backend/tensorflow_monkeypatch.py to tensorflow_monkeypatch.cpython-36.pyc\n",
            "byte-compiling build/bdist.linux-x86_64/egg/keras_adversarial/backend/tensorflow_backend.py to tensorflow_backend.cpython-36.pyc\n",
            "byte-compiling build/bdist.linux-x86_64/egg/keras_adversarial/backend/theano_backend.py to theano_backend.cpython-36.pyc\n",
            "byte-compiling build/bdist.linux-x86_64/egg/keras_adversarial/adversarial_model.py to adversarial_model.cpython-36.pyc\n",
            "byte-compiling build/bdist.linux-x86_64/egg/keras_adversarial/unrolled_optimizer.py to unrolled_optimizer.cpython-36.pyc\n",
            "byte-compiling build/bdist.linux-x86_64/egg/keras_adversarial/image_grid.py to image_grid.cpython-36.pyc\n",
            "creating build/bdist.linux-x86_64/egg/EGG-INFO\n",
            "copying keras_adversarial.egg-info/PKG-INFO -> build/bdist.linux-x86_64/egg/EGG-INFO\n",
            "copying keras_adversarial.egg-info/SOURCES.txt -> build/bdist.linux-x86_64/egg/EGG-INFO\n",
            "copying keras_adversarial.egg-info/dependency_links.txt -> build/bdist.linux-x86_64/egg/EGG-INFO\n",
            "copying keras_adversarial.egg-info/requires.txt -> build/bdist.linux-x86_64/egg/EGG-INFO\n",
            "copying keras_adversarial.egg-info/top_level.txt -> build/bdist.linux-x86_64/egg/EGG-INFO\n",
            "zip_safe flag not set; analyzing archive contents...\n",
            "creating 'dist/keras_adversarial-0.0.3-py3.6.egg' and adding 'build/bdist.linux-x86_64/egg' to it\n",
            "removing 'build/bdist.linux-x86_64/egg' (and everything under it)\n",
            "Processing keras_adversarial-0.0.3-py3.6.egg\n",
            "Removing /usr/local/lib/python3.6/dist-packages/keras_adversarial-0.0.3-py3.6.egg\n",
            "Copying keras_adversarial-0.0.3-py3.6.egg to /usr/local/lib/python3.6/dist-packages\n",
            "keras-adversarial 0.0.3 is already the active version in easy-install.pth\n",
            "\n",
            "Installed /usr/local/lib/python3.6/dist-packages/keras_adversarial-0.0.3-py3.6.egg\n",
            "Processing dependencies for keras-adversarial==0.0.3\n",
            "Searching for Keras==2.1.2\n",
            "Best match: Keras 2.1.2\n",
            "Adding Keras 2.1.2 to easy-install.pth file\n",
            "\n",
            "Using /usr/local/lib/python3.6/dist-packages\n",
            "Searching for numpy==1.16.4\n",
            "Best match: numpy 1.16.4\n",
            "Adding numpy 1.16.4 to easy-install.pth file\n",
            "Installing f2py script to /usr/local/bin\n",
            "Installing f2py3 script to /usr/local/bin\n",
            "Installing f2py3.6 script to /usr/local/bin\n",
            "\n",
            "Using /usr/local/lib/python3.6/dist-packages\n",
            "Searching for six==1.12.0\n",
            "Best match: six 1.12.0\n",
            "Adding six 1.12.0 to easy-install.pth file\n",
            "\n",
            "Using /usr/local/lib/python3.6/dist-packages\n",
            "Searching for scipy==1.3.0\n",
            "Best match: scipy 1.3.0\n",
            "Adding scipy 1.3.0 to easy-install.pth file\n",
            "\n",
            "Using /usr/local/lib/python3.6/dist-packages\n",
            "Searching for PyYAML==5.1\n",
            "Best match: PyYAML 5.1\n",
            "Adding PyYAML 5.1 to easy-install.pth file\n",
            "\n",
            "Using /usr/local/lib/python3.6/dist-packages\n",
            "Finished processing dependencies for keras-adversarial==0.0.3\n"
          ],
          "name": "stdout"
        }
      ]
    },
    {
      "cell_type": "markdown",
      "metadata": {
        "id": "0ORpt3XIxhSm",
        "colab_type": "text"
      },
      "source": [
        "### Import packages:"
      ]
    },
    {
      "cell_type": "code",
      "metadata": {
        "id": "qZaN39aCxHUd",
        "colab_type": "code",
        "colab": {
          "base_uri": "https://localhost:8080/",
          "height": 34
        },
        "outputId": "7b3acacd-718a-45e0-fd63-a12a50fc6d50"
      },
      "source": [
        "import pandas as pd # for data handling\n",
        "import numpy as np # for linear algebra\n",
        "import matplotlib.pyplot as plt #for visualisation\n",
        "import keras #for neural networks"
      ],
      "execution_count": 4,
      "outputs": [
        {
          "output_type": "stream",
          "text": [
            "Using TensorFlow backend.\n"
          ],
          "name": "stderr"
        }
      ]
    },
    {
      "cell_type": "code",
      "metadata": {
        "id": "Anyo9PnqxK9S",
        "colab_type": "code",
        "colab": {}
      },
      "source": [
        "#for neural networks\n",
        "from keras_adversarial import AdversarialModel, simple_gan, gan_targets\n",
        "from keras_adversarial import normal_latent_sampling, AdversarialOptimizerSimultaneous\n",
        "from keras_adversarial.legacy import fit\n",
        "import keras.backend as K\n",
        "from keras.layers import Conv2D, Flatten, Activation, Dense, UpSampling2D, Reshape, BatchNormalization, AveragePooling2D\n",
        "from keras.layers import BatchNormalization, Dropout\n",
        "from keras.optimizers import Adam\n",
        "from keras.initializers import TruncatedNormal\n",
        "from keras.models import Sequential\n",
        "from keras_adversarial.image_grid_callback import ImageGridCallback"
      ],
      "execution_count": 0,
      "outputs": []
    },
    {
      "cell_type": "markdown",
      "metadata": {
        "id": "nOiodxLBx0r4",
        "colab_type": "text"
      },
      "source": [
        "### Prepare data"
      ]
    },
    {
      "cell_type": "code",
      "metadata": {
        "id": "FPeLy-Cg0VPf",
        "colab_type": "code",
        "outputId": "99b7627e-8298-4563-bd1c-fe56de17b3dd",
        "colab": {
          "base_uri": "https://localhost:8080/",
          "height": 238
        }
      },
      "source": [
        "# get fashion mnist data\n",
        "(x_train,y_train), (x_test,y_test) = keras.datasets.fashion_mnist.load_data()\n",
        "\n",
        "# show shapes of tensors\n",
        "print(\"x_train shape:\", x_train.shape, \", y_train shape:\", y_train.shape)\n",
        "print(\"x_test shape:\", x_test.shape, \", y_test shape:\", y_test.shape)\n",
        "\n",
        "# get number of classes\n",
        "nClasses = len(np.unique(y_train)) # number of output classes\n",
        "print(\"Number of classes: \", nClasses)\n",
        "\n",
        "# normalize grayscale pixel values (0-255) to (0,1)\n",
        "x_train = x_train.astype('float32')/255 # normalized training inputs\n",
        "x_test = x_test.astype('float32')/255 # normalized test inputs\n",
        "\n",
        "# show shapes of re-shaped tensors\n",
        "print(\"x_train shape:\", x_train.shape, \", y_train shape:\", y_train.shape)\n",
        "print(\"x_test shape:\", x_test.shape, \", y_test shape:\", y_test.shape)"
      ],
      "execution_count": 6,
      "outputs": [
        {
          "output_type": "stream",
          "text": [
            "Downloading data from http://fashion-mnist.s3-website.eu-central-1.amazonaws.com/train-labels-idx1-ubyte.gz\n",
            "32768/29515 [=================================] - 0s 0us/step\n",
            "Downloading data from http://fashion-mnist.s3-website.eu-central-1.amazonaws.com/train-images-idx3-ubyte.gz\n",
            "26427392/26421880 [==============================] - 0s 0us/step\n",
            "Downloading data from http://fashion-mnist.s3-website.eu-central-1.amazonaws.com/t10k-labels-idx1-ubyte.gz\n",
            "8192/5148 [===============================================] - 0s 0us/step\n",
            "Downloading data from http://fashion-mnist.s3-website.eu-central-1.amazonaws.com/t10k-images-idx3-ubyte.gz\n",
            "4423680/4422102 [==============================] - 0s 0us/step\n",
            "x_train shape: (60000, 28, 28) , y_train shape: (60000,)\n",
            "x_test shape: (10000, 28, 28) , y_test shape: (10000,)\n",
            "Number of classes:  10\n",
            "x_train shape: (60000, 28, 28) , y_train shape: (60000,)\n",
            "x_test shape: (10000, 28, 28) , y_test shape: (10000,)\n"
          ],
          "name": "stdout"
        }
      ]
    },
    {
      "cell_type": "code",
      "metadata": {
        "id": "gNHoORB_0bzr",
        "colab_type": "code",
        "colab": {}
      },
      "source": [
        "latent_dim = 100 #dimention of the output "
      ],
      "execution_count": 0,
      "outputs": []
    },
    {
      "cell_type": "markdown",
      "metadata": {
        "id": "eJ0AlTGbxdCx",
        "colab_type": "text"
      },
      "source": [
        "### Build generator model: Dense-Conv1-Conv2-Conv3"
      ]
    },
    {
      "cell_type": "code",
      "metadata": {
        "id": "XSl2Qcm80gDv",
        "colab_type": "code",
        "colab": {}
      },
      "source": [
        "def model_generator():\n",
        "    model_g = keras.Sequential([\n",
        "        #first fully connected\n",
        "        Dense(3136,  input_shape=(100,), kernel_initializer=TruncatedNormal(stddev=0.02), bias_initializer=TruncatedNormal(stddev=0.02)),\n",
        "        BatchNormalization(epsilon=1e-5),\n",
        "        Activation('relu'),\n",
        "        Reshape([56, 56, 1]),\n",
        "\n",
        "        #convolutional layer 1\n",
        "        Conv2D(50, kernel_size = (3,3), strides=(2, 2), kernel_initializer=TruncatedNormal(stddev=0.02),bias_initializer=TruncatedNormal(stddev=0.02),  padding=\"same\"),\n",
        "        BatchNormalization(epsilon=1e-5),\n",
        "        Activation('relu'),\n",
        "        UpSampling2D(size=(2, 2)),\n",
        "\n",
        "        #convolutional layer 2\n",
        "        Conv2D(25, kernel_size = (3,3), strides=(2, 2), kernel_initializer=TruncatedNormal(stddev=0.02),bias_initializer=TruncatedNormal(stddev=0.02),  padding=\"same\"),\n",
        "        BatchNormalization(epsilon=1e-5),\n",
        "        Activation('relu'),\n",
        "        UpSampling2D(size=(2, 2)),\n",
        "\n",
        "        #convolutional layer 3\n",
        "        Conv2D(1, kernel_size=(1,1), strides=(2, 2), padding=\"same\", kernel_initializer=TruncatedNormal(stddev=0.02), bias_initializer=TruncatedNormal(stddev=0.02), activation =\"sigmoid\")],\n",
        "        name=\"generator\")\n",
        "    return model_g\n",
        "\n"
      ],
      "execution_count": 0,
      "outputs": []
    },
    {
      "cell_type": "markdown",
      "metadata": {
        "id": "wtgHwCS50U5q",
        "colab_type": "text"
      },
      "source": [
        "### Build discriminator model with batch normalization: Conv1-Conv2-Dense1-Dense2"
      ]
    },
    {
      "cell_type": "code",
      "metadata": {
        "id": "nMgJVLA70hNb",
        "colab_type": "code",
        "colab": {}
      },
      "source": [
        "def model_discriminator():\n",
        "    model_d = keras.Sequential([\n",
        "        #convolutional layer 1\n",
        "        Conv2D(32, kernel_size = (5,5), strides=(1, 1), kernel_initializer=TruncatedNormal(stddev=0.02), padding=\"same\", input_shape=(28, 28, 1)),\n",
        "        BatchNormalization(epsilon=1e-5),\n",
        "        Activation('relu'),\n",
        "        AveragePooling2D(pool_size=(2, 2), strides=(2, 2), padding=\"same\"),\n",
        "        \n",
        "        #convolutional layer 2\n",
        "        Conv2D(64, kernel_size = (5,5), strides=(1, 1), kernel_initializer=TruncatedNormal(stddev=0.02), padding=\"same\"),\n",
        "        BatchNormalization(epsilon=1e-5),\n",
        "        Activation('relu'),\n",
        "        AveragePooling2D(pool_size=(2, 2), strides=(2, 2), padding=\"same\"),\n",
        "        \n",
        "        #first fully connected\n",
        "        Flatten(),\n",
        "        Dense(1024,  kernel_initializer=TruncatedNormal(stddev=0.02)),\n",
        "        Activation('relu'),\n",
        "        \n",
        "        #second fully connected\n",
        "        Dense(1, kernel_initializer=TruncatedNormal(stddev=0.02)),\n",
        "        Activation('sigmoid')],\n",
        "        name=\"discriminator\")\n",
        "    return model_d\n",
        "\n",
        "\n"
      ],
      "execution_count": 0,
      "outputs": []
    },
    {
      "cell_type": "code",
      "metadata": {
        "id": "JDUmZUFF0kaG",
        "colab_type": "code",
        "colab": {}
      },
      "source": [
        "def generator_sampler(latent_dim, generator): #data sampling for generator inputs\n",
        "    def fun():\n",
        "        zsamples = np.random.normal(0, 1, size=(10 * 10, latent_dim)) #sample data from normal distribution with mean 0 and standard deviation 1\n",
        "        gen = dim_ordering_unfix(generator.predict(zsamples))\n",
        "        return gen.reshape((10, 10, 28, 28))\n",
        "\n",
        "    return fun"
      ],
      "execution_count": 0,
      "outputs": []
    },
    {
      "cell_type": "code",
      "metadata": {
        "id": "f3fQBjpK0neB",
        "colab_type": "code",
        "outputId": "217aac1c-1ac5-458e-dc09-eb74d0619ed9",
        "colab": {
          "base_uri": "https://localhost:8080/",
          "height": 139
        }
      },
      "source": [
        "# generator (z -> x)\n",
        "generator = model_generator()\n",
        "# discriminator (x -> y)\n",
        "discriminator = model_discriminator()\n",
        "gan = simple_gan(generator, discriminator, normal_latent_sampling((latent_dim,)))"
      ],
      "execution_count": 11,
      "outputs": [
        {
          "output_type": "stream",
          "text": [
            "WARNING:tensorflow:From /usr/local/lib/python3.6/dist-packages/tensorflow/python/framework/op_def_library.py:263: colocate_with (from tensorflow.python.framework.ops) is deprecated and will be removed in a future version.\n",
            "Instructions for updating:\n",
            "Colocations handled automatically by placer.\n",
            "WARNING:tensorflow:From /usr/local/lib/python3.6/dist-packages/keras/backend/tensorflow_backend.py:1264: calling reduce_prod_v1 (from tensorflow.python.ops.math_ops) with keep_dims is deprecated and will be removed in a future version.\n",
            "Instructions for updating:\n",
            "keep_dims is deprecated, use keepdims instead\n"
          ],
          "name": "stdout"
        }
      ]
    },
    {
      "cell_type": "code",
      "metadata": {
        "id": "gUvenJ7x0pud",
        "colab_type": "code",
        "outputId": "f18eef8f-3df5-4e0f-fda0-d4ddbdb9bfaf",
        "colab": {
          "base_uri": "https://localhost:8080/",
          "height": 1445
        }
      },
      "source": [
        "#NNs' architecture\n",
        "generator.summary()\n",
        "discriminator.summary()\n",
        "gan.summary()"
      ],
      "execution_count": 12,
      "outputs": [
        {
          "output_type": "stream",
          "text": [
            "_________________________________________________________________\n",
            "Layer (type)                 Output Shape              Param #   \n",
            "=================================================================\n",
            "dense_1 (Dense)              (None, 3136)              316736    \n",
            "_________________________________________________________________\n",
            "batch_normalization_1 (Batch (None, 3136)              12544     \n",
            "_________________________________________________________________\n",
            "activation_1 (Activation)    (None, 3136)              0         \n",
            "_________________________________________________________________\n",
            "reshape_1 (Reshape)          (None, 56, 56, 1)         0         \n",
            "_________________________________________________________________\n",
            "conv2d_1 (Conv2D)            (None, 28, 28, 50)        500       \n",
            "_________________________________________________________________\n",
            "batch_normalization_2 (Batch (None, 28, 28, 50)        200       \n",
            "_________________________________________________________________\n",
            "activation_2 (Activation)    (None, 28, 28, 50)        0         \n",
            "_________________________________________________________________\n",
            "up_sampling2d_1 (UpSampling2 (None, 56, 56, 50)        0         \n",
            "_________________________________________________________________\n",
            "conv2d_2 (Conv2D)            (None, 28, 28, 25)        11275     \n",
            "_________________________________________________________________\n",
            "batch_normalization_3 (Batch (None, 28, 28, 25)        100       \n",
            "_________________________________________________________________\n",
            "activation_3 (Activation)    (None, 28, 28, 25)        0         \n",
            "_________________________________________________________________\n",
            "up_sampling2d_2 (UpSampling2 (None, 56, 56, 25)        0         \n",
            "_________________________________________________________________\n",
            "conv2d_3 (Conv2D)            (None, 28, 28, 1)         26        \n",
            "=================================================================\n",
            "Total params: 341,381\n",
            "Trainable params: 334,959\n",
            "Non-trainable params: 6,422\n",
            "_________________________________________________________________\n",
            "_________________________________________________________________\n",
            "Layer (type)                 Output Shape              Param #   \n",
            "=================================================================\n",
            "conv2d_4 (Conv2D)            (None, 28, 28, 32)        832       \n",
            "_________________________________________________________________\n",
            "batch_normalization_4 (Batch (None, 28, 28, 32)        128       \n",
            "_________________________________________________________________\n",
            "activation_4 (Activation)    (None, 28, 28, 32)        0         \n",
            "_________________________________________________________________\n",
            "average_pooling2d_1 (Average (None, 14, 14, 32)        0         \n",
            "_________________________________________________________________\n",
            "conv2d_5 (Conv2D)            (None, 14, 14, 64)        51264     \n",
            "_________________________________________________________________\n",
            "batch_normalization_5 (Batch (None, 14, 14, 64)        256       \n",
            "_________________________________________________________________\n",
            "activation_5 (Activation)    (None, 14, 14, 64)        0         \n",
            "_________________________________________________________________\n",
            "average_pooling2d_2 (Average (None, 7, 7, 64)          0         \n",
            "_________________________________________________________________\n",
            "flatten_1 (Flatten)          (None, 3136)              0         \n",
            "_________________________________________________________________\n",
            "dense_2 (Dense)              (None, 1024)              3212288   \n",
            "_________________________________________________________________\n",
            "activation_6 (Activation)    (None, 1024)              0         \n",
            "_________________________________________________________________\n",
            "dense_3 (Dense)              (None, 1)                 1025      \n",
            "_________________________________________________________________\n",
            "activation_7 (Activation)    (None, 1)                 0         \n",
            "=================================================================\n",
            "Total params: 3,265,793\n",
            "Trainable params: 3,265,601\n",
            "Non-trainable params: 192\n",
            "_________________________________________________________________\n",
            "__________________________________________________________________________________________________\n",
            "Layer (type)                    Output Shape         Param #     Connected to                     \n",
            "==================================================================================================\n",
            "conv2d_4_input (InputLayer)     (None, 28, 28, 1)    0                                            \n",
            "__________________________________________________________________________________________________\n",
            "lambda_1 (Lambda)               (None, 100)          0           conv2d_4_input[0][0]             \n",
            "__________________________________________________________________________________________________\n",
            "gan (Model)                     [(None, 1), (None, 1 3607174     lambda_1[0][0]                   \n",
            "                                                                 conv2d_4_input[0][0]             \n",
            "__________________________________________________________________________________________________\n",
            "yfake (Activation)              (None, 1)            0           gan[1][0]                        \n",
            "__________________________________________________________________________________________________\n",
            "yreal (Activation)              (None, 1)            0           gan[1][1]                        \n",
            "==================================================================================================\n",
            "Total params: 3,607,174\n",
            "Trainable params: 3,600,560\n",
            "Non-trainable params: 6,614\n",
            "__________________________________________________________________________________________________\n"
          ],
          "name": "stdout"
        }
      ]
    },
    {
      "cell_type": "code",
      "metadata": {
        "id": "rBJEmxIn0sKN",
        "colab_type": "code",
        "colab": {}
      },
      "source": [
        "model = AdversarialModel(base_model=gan, #build the model\n",
        "                             player_params=[generator.trainable_weights, discriminator.trainable_weights],\n",
        "                             player_names=[\"generator\", \"discriminator\"])\n",
        "model.adversarial_compile(adversarial_optimizer=AdversarialOptimizerSimultaneous(), #compile the model\n",
        "                              player_optimizers=[Adam(0.0003, decay=1e-4), Adam(0.0003, decay=1e-4)],\n",
        "                              loss='binary_crossentropy')"
      ],
      "execution_count": 0,
      "outputs": []
    },
    {
      "cell_type": "code",
      "metadata": {
        "id": "vUk5Ojcz17A5",
        "colab_type": "code",
        "colab": {}
      },
      "source": [
        "generator_cb = ImageGridCallback(\"output/gan_convolutional/epoch-{:03d}.png\",\n",
        "                                     generator_sampler(latent_dim, generator)) #save the output after each epoch"
      ],
      "execution_count": 0,
      "outputs": []
    },
    {
      "cell_type": "code",
      "metadata": {
        "id": "B-6_HBBx2JFo",
        "colab_type": "code",
        "colab": {}
      },
      "source": [
        "#for the image dimension ordering convention  \n",
        "def dim_ordering_fix(x):\n",
        "    if K.image_dim_ordering() == 'th':\n",
        "        return x\n",
        "    else:\n",
        "        return np.transpose(x, (0, 2, 3, 1))\n",
        "    \n",
        "def dim_ordering_unfix(x):\n",
        "    if K.image_dim_ordering() == 'th':\n",
        "        return x\n",
        "    else:\n",
        "        return np.transpose(x, (0, 3, 1, 2))\n",
        "      \n",
        "def dim_ordering_shape(input_shape):\n",
        "    if K.image_dim_ordering() == 'th':\n",
        "        return input_shape\n",
        "    else:\n",
        "        return (input_shape[1], input_shape[2], input_shape[0])"
      ],
      "execution_count": 0,
      "outputs": []
    },
    {
      "cell_type": "code",
      "metadata": {
        "colab_type": "code",
        "id": "Rce8ln_j34vL",
        "colab": {}
      },
      "source": [
        "xtrain = dim_ordering_fix(x_train.reshape((-1, 1, 28, 28)))\n",
        "xtest = dim_ordering_fix(x_test.reshape((-1, 1, 28, 28)))\n",
        "y = gan_targets(xtrain.shape[0])"
      ],
      "execution_count": 0,
      "outputs": []
    },
    {
      "cell_type": "code",
      "metadata": {
        "id": "uT9t4DZD5eiS",
        "colab_type": "code",
        "outputId": "0d667814-dc39-4d46-eeb4-664c46316903",
        "colab": {
          "base_uri": "https://localhost:8080/",
          "height": 3522
        }
      },
      "source": [
        "%time\n",
        "ytest = gan_targets(xtest.shape[0])\n",
        "history = model.fit(x=xtrain, y=y, validation_data=(xtest, ytest), callbacks=[generator_cb], nb_epoch=100,\n",
        "                        batch_size=100) #training the DCGAN\n",
        "df = pd.DataFrame(history.history) #convert to dataframe\n",
        "df.to_csv(\"output/gan_convolutional/history.csv\") #save the loss history "
      ],
      "execution_count": 18,
      "outputs": [
        {
          "output_type": "stream",
          "text": [
            "CPU times: user 2 µs, sys: 0 ns, total: 2 µs\n",
            "Wall time: 5.96 µs\n",
            "Train on 60000 samples, validate on 10000 samples\n",
            "Epoch 1/100\n",
            "  200/60000 [..............................] - ETA: 40s - loss: 21.6256 - generator_loss: 21.6254 - generator_yfake_loss: 10.4386 - generator_yreal_loss: 11.1868 - discriminator_loss: 1.5877e-04 - discriminator_yfake_loss: 1.0495e-04 - discriminator_yreal_loss: 5.3824e-05"
          ],
          "name": "stdout"
        },
        {
          "output_type": "stream",
          "text": [
            "/usr/local/lib/python3.6/dist-packages/ipykernel_launcher.py:4: UserWarning: The `nb_epoch` argument in `fit` has been renamed `epochs`.\n",
            "  after removing the cwd from sys.path.\n"
          ],
          "name": "stderr"
        },
        {
          "output_type": "stream",
          "text": [
            "60000/60000 [==============================] - 33s 550us/step - loss: 12.7336 - generator_loss: 12.6228 - generator_yfake_loss: 6.0371 - generator_yreal_loss: 6.5857 - discriminator_loss: 0.1108 - discriminator_yfake_loss: 0.0550 - discriminator_yreal_loss: 0.0558 - val_loss: 20.8083 - val_generator_loss: 14.2734 - val_generator_yfake_loss: 0.0297 - val_generator_yreal_loss: 14.2437 - val_discriminator_loss: 6.5349 - val_discriminator_yfake_loss: 6.5345 - val_discriminator_yreal_loss: 3.9953e-04\n",
            "Epoch 2/100\n",
            "60000/60000 [==============================] - 33s 554us/step - loss: 9.7514 - generator_loss: 9.5715 - generator_yfake_loss: 4.5496 - generator_yreal_loss: 5.0219 - discriminator_loss: 0.1799 - discriminator_yfake_loss: 0.0860 - discriminator_yreal_loss: 0.0939 - val_loss: 8.3808 - val_generator_loss: 7.9028 - val_generator_yfake_loss: 2.4807 - val_generator_yreal_loss: 5.4221 - val_discriminator_loss: 0.4779 - val_discriminator_yfake_loss: 0.3865 - val_discriminator_yreal_loss: 0.0914\n",
            "Epoch 3/100\n",
            "60000/60000 [==============================] - 32s 537us/step - loss: 9.8578 - generator_loss: 9.6277 - generator_yfake_loss: 4.5391 - generator_yreal_loss: 5.0885 - discriminator_loss: 0.2301 - discriminator_yfake_loss: 0.1095 - discriminator_yreal_loss: 0.1206 - val_loss: 12.0738 - val_generator_loss: 9.0779 - val_generator_yfake_loss: 0.2793 - val_generator_yreal_loss: 8.7986 - val_discriminator_loss: 2.9959 - val_discriminator_yfake_loss: 2.9878 - val_discriminator_yreal_loss: 0.0080\n",
            "Epoch 4/100\n",
            "60000/60000 [==============================] - 32s 531us/step - loss: 10.3479 - generator_loss: 10.1403 - generator_yfake_loss: 4.7074 - generator_yreal_loss: 5.4329 - discriminator_loss: 0.2076 - discriminator_yfake_loss: 0.0988 - discriminator_yreal_loss: 0.1088 - val_loss: 17.9253 - val_generator_loss: 11.9112 - val_generator_yfake_loss: 0.2249 - val_generator_yreal_loss: 11.6863 - val_discriminator_loss: 6.0141 - val_discriminator_yfake_loss: 6.0115 - val_discriminator_yreal_loss: 0.0025\n",
            "Epoch 5/100\n",
            "60000/60000 [==============================] - 32s 534us/step - loss: 10.7880 - generator_loss: 10.5855 - generator_yfake_loss: 4.8429 - generator_yreal_loss: 5.7426 - discriminator_loss: 0.2025 - discriminator_yfake_loss: 0.0967 - discriminator_yreal_loss: 0.1059 - val_loss: 8.5311 - val_generator_loss: 7.8269 - val_generator_yfake_loss: 4.3501 - val_generator_yreal_loss: 3.4768 - val_discriminator_loss: 0.7042 - val_discriminator_yfake_loss: 0.1376 - val_discriminator_yreal_loss: 0.5666\n",
            "Epoch 6/100\n",
            "60000/60000 [==============================] - 32s 531us/step - loss: 11.1382 - generator_loss: 10.9373 - generator_yfake_loss: 5.0294 - generator_yreal_loss: 5.9080 - discriminator_loss: 0.2009 - discriminator_yfake_loss: 0.0955 - discriminator_yreal_loss: 0.1053 - val_loss: 16.1397 - val_generator_loss: 12.0524 - val_generator_yfake_loss: 0.3934 - val_generator_yreal_loss: 11.6590 - val_discriminator_loss: 4.0873 - val_discriminator_yfake_loss: 4.0835 - val_discriminator_yreal_loss: 0.0037\n",
            "Epoch 7/100\n",
            "60000/60000 [==============================] - 32s 528us/step - loss: 11.3729 - generator_loss: 11.1873 - generator_yfake_loss: 5.1184 - generator_yreal_loss: 6.0689 - discriminator_loss: 0.1856 - discriminator_yfake_loss: 0.0894 - discriminator_yreal_loss: 0.0962 - val_loss: 8.7941 - val_generator_loss: 8.4537 - val_generator_yfake_loss: 3.4859 - val_generator_yreal_loss: 4.9677 - val_discriminator_loss: 0.3405 - val_discriminator_yfake_loss: 0.2000 - val_discriminator_yreal_loss: 0.1405\n",
            "Epoch 8/100\n",
            "60000/60000 [==============================] - 32s 534us/step - loss: 11.8454 - generator_loss: 11.6668 - generator_yfake_loss: 5.3499 - generator_yreal_loss: 6.3169 - discriminator_loss: 0.1786 - discriminator_yfake_loss: 0.0846 - discriminator_yreal_loss: 0.0939 - val_loss: 9.2905 - val_generator_loss: 8.8156 - val_generator_yfake_loss: 3.1998 - val_generator_yreal_loss: 5.6158 - val_discriminator_loss: 0.4749 - val_discriminator_yfake_loss: 0.3772 - val_discriminator_yreal_loss: 0.0977\n",
            "Epoch 9/100\n",
            "60000/60000 [==============================] - 32s 530us/step - loss: 12.1474 - generator_loss: 11.9825 - generator_yfake_loss: 5.4711 - generator_yreal_loss: 6.5115 - discriminator_loss: 0.1648 - discriminator_yfake_loss: 0.0798 - discriminator_yreal_loss: 0.0850 - val_loss: 10.0786 - val_generator_loss: 9.0974 - val_generator_yfake_loss: 5.7791 - val_generator_yreal_loss: 3.3182 - val_discriminator_loss: 0.9812 - val_discriminator_yfake_loss: 0.0831 - val_discriminator_yreal_loss: 0.8981\n",
            "Epoch 10/100\n",
            "60000/60000 [==============================] - 31s 525us/step - loss: 12.2046 - generator_loss: 12.0268 - generator_yfake_loss: 5.5088 - generator_yreal_loss: 6.5179 - discriminator_loss: 0.1778 - discriminator_yfake_loss: 0.0855 - discriminator_yreal_loss: 0.0923 - val_loss: 10.7784 - val_generator_loss: 9.4838 - val_generator_yfake_loss: 1.6094 - val_generator_yreal_loss: 7.8745 - val_discriminator_loss: 1.2945 - val_discriminator_yfake_loss: 1.2605 - val_discriminator_yreal_loss: 0.0340\n",
            "Epoch 11/100\n",
            "60000/60000 [==============================] - 33s 547us/step - loss: 12.8157 - generator_loss: 12.6956 - generator_yfake_loss: 5.8463 - generator_yreal_loss: 6.8493 - discriminator_loss: 0.1201 - discriminator_yfake_loss: 0.0569 - discriminator_yreal_loss: 0.0632 - val_loss: 12.7092 - val_generator_loss: 10.2776 - val_generator_yfake_loss: 0.8330 - val_generator_yreal_loss: 9.4446 - val_discriminator_loss: 2.4316 - val_discriminator_yfake_loss: 2.4212 - val_discriminator_yreal_loss: 0.0103\n",
            "Epoch 12/100\n",
            "60000/60000 [==============================] - 32s 527us/step - loss: 12.9201 - generator_loss: 12.7661 - generator_yfake_loss: 5.8511 - generator_yreal_loss: 6.9151 - discriminator_loss: 0.1539 - discriminator_yfake_loss: 0.0748 - discriminator_yreal_loss: 0.0791 - val_loss: 11.0814 - val_generator_loss: 9.8759 - val_generator_yfake_loss: 1.5749 - val_generator_yreal_loss: 8.3009 - val_discriminator_loss: 1.2055 - val_discriminator_yfake_loss: 1.1850 - val_discriminator_yreal_loss: 0.0205\n",
            "Epoch 13/100\n",
            "60000/60000 [==============================] - 32s 527us/step - loss: 13.2351 - generator_loss: 13.1118 - generator_yfake_loss: 6.0531 - generator_yreal_loss: 7.0587 - discriminator_loss: 0.1233 - discriminator_yfake_loss: 0.0591 - discriminator_yreal_loss: 0.0642 - val_loss: 9.9126 - val_generator_loss: 9.5129 - val_generator_yfake_loss: 4.7208 - val_generator_yreal_loss: 4.7922 - val_discriminator_loss: 0.3996 - val_discriminator_yfake_loss: 0.1721 - val_discriminator_yreal_loss: 0.2275\n",
            "Epoch 14/100\n",
            "60000/60000 [==============================] - 33s 543us/step - loss: 13.0121 - generator_loss: 12.8408 - generator_yfake_loss: 5.8730 - generator_yreal_loss: 6.9678 - discriminator_loss: 0.1714 - discriminator_yfake_loss: 0.0831 - discriminator_yreal_loss: 0.0883 - val_loss: 11.3887 - val_generator_loss: 9.8764 - val_generator_yfake_loss: 8.0006 - val_generator_yreal_loss: 1.8758 - val_discriminator_loss: 1.5123 - val_discriminator_yfake_loss: 0.0053 - val_discriminator_yreal_loss: 1.5070\n",
            "Epoch 15/100\n",
            "60000/60000 [==============================] - 31s 524us/step - loss: 13.5338 - generator_loss: 13.4119 - generator_yfake_loss: 6.1950 - generator_yreal_loss: 7.2169 - discriminator_loss: 0.1219 - discriminator_yfake_loss: 0.0590 - discriminator_yreal_loss: 0.0629 - val_loss: 14.0887 - val_generator_loss: 12.1710 - val_generator_yfake_loss: 1.3385 - val_generator_yreal_loss: 10.8325 - val_discriminator_loss: 1.9177 - val_discriminator_yfake_loss: 1.9117 - val_discriminator_yreal_loss: 0.0060\n",
            "Epoch 16/100\n",
            "60000/60000 [==============================] - 32s 526us/step - loss: 13.8969 - generator_loss: 13.7917 - generator_yfake_loss: 6.3650 - generator_yreal_loss: 7.4267 - discriminator_loss: 0.1052 - discriminator_yfake_loss: 0.0509 - discriminator_yreal_loss: 0.0543 - val_loss: 11.1152 - val_generator_loss: 10.2666 - val_generator_yfake_loss: 6.4163 - val_generator_yreal_loss: 3.8503 - val_discriminator_loss: 0.8486 - val_discriminator_yfake_loss: 0.0761 - val_discriminator_yreal_loss: 0.7725\n",
            "Epoch 17/100\n",
            "60000/60000 [==============================] - 32s 526us/step - loss: 13.9794 - generator_loss: 13.8528 - generator_yfake_loss: 6.3831 - generator_yreal_loss: 7.4697 - discriminator_loss: 0.1266 - discriminator_yfake_loss: 0.0614 - discriminator_yreal_loss: 0.0651 - val_loss: 12.3378 - val_generator_loss: 10.4883 - val_generator_yfake_loss: 8.3084 - val_generator_yreal_loss: 2.1799 - val_discriminator_loss: 1.8495 - val_discriminator_yfake_loss: 0.0215 - val_discriminator_yreal_loss: 1.8280\n",
            "Epoch 18/100\n",
            "60000/60000 [==============================] - 31s 522us/step - loss: 14.5342 - generator_loss: 14.4536 - generator_yfake_loss: 6.6885 - generator_yreal_loss: 7.7651 - discriminator_loss: 0.0806 - discriminator_yfake_loss: 0.0393 - discriminator_yreal_loss: 0.0413 - val_loss: 11.1971 - val_generator_loss: 10.7422 - val_generator_yfake_loss: 3.2012 - val_generator_yreal_loss: 7.5410 - val_discriminator_loss: 0.4548 - val_discriminator_yfake_loss: 0.4049 - val_discriminator_yreal_loss: 0.0499\n",
            "Epoch 19/100\n",
            "60000/60000 [==============================] - 33s 547us/step - loss: 14.3314 - generator_loss: 14.2172 - generator_yfake_loss: 6.5534 - generator_yreal_loss: 7.6638 - discriminator_loss: 0.1142 - discriminator_yfake_loss: 0.0553 - discriminator_yreal_loss: 0.0589 - val_loss: 14.8239 - val_generator_loss: 11.9823 - val_generator_yfake_loss: 1.0335 - val_generator_yreal_loss: 10.9488 - val_discriminator_loss: 2.8416 - val_discriminator_yfake_loss: 2.8339 - val_discriminator_yreal_loss: 0.0077\n",
            "Epoch 20/100\n",
            "60000/60000 [==============================] - 31s 523us/step - loss: 14.9278 - generator_loss: 14.8337 - generator_yfake_loss: 6.8333 - generator_yreal_loss: 8.0004 - discriminator_loss: 0.0941 - discriminator_yfake_loss: 0.0456 - discriminator_yreal_loss: 0.0484 - val_loss: 18.2263 - val_generator_loss: 13.8021 - val_generator_yfake_loss: 0.6463 - val_generator_yreal_loss: 13.1558 - val_discriminator_loss: 4.4243 - val_discriminator_yfake_loss: 4.4228 - val_discriminator_yreal_loss: 0.0015\n",
            "Epoch 21/100\n",
            "60000/60000 [==============================] - 32s 529us/step - loss: 14.6236 - generator_loss: 14.5039 - generator_yfake_loss: 6.6785 - generator_yreal_loss: 7.8254 - discriminator_loss: 0.1198 - discriminator_yfake_loss: 0.0588 - discriminator_yreal_loss: 0.0610 - val_loss: 11.2195 - val_generator_loss: 10.9414 - val_generator_yfake_loss: 4.7665 - val_generator_yreal_loss: 6.1749 - val_discriminator_loss: 0.2781 - val_discriminator_yfake_loss: 0.1475 - val_discriminator_yreal_loss: 0.1306\n",
            "Epoch 22/100\n",
            "60000/60000 [==============================] - 32s 527us/step - loss: 15.0830 - generator_loss: 14.9984 - generator_yfake_loss: 6.9374 - generator_yreal_loss: 8.0611 - discriminator_loss: 0.0845 - discriminator_yfake_loss: 0.0416 - discriminator_yreal_loss: 0.0429 - val_loss: 13.0479 - val_generator_loss: 11.9205 - val_generator_yfake_loss: 2.3450 - val_generator_yreal_loss: 9.5755 - val_discriminator_loss: 1.1274 - val_discriminator_yfake_loss: 1.1129 - val_discriminator_yreal_loss: 0.0145\n",
            "Epoch 23/100\n",
            "60000/60000 [==============================] - 31s 524us/step - loss: 15.3223 - generator_loss: 15.2343 - generator_yfake_loss: 7.0382 - generator_yreal_loss: 8.1961 - discriminator_loss: 0.0881 - discriminator_yfake_loss: 0.0424 - discriminator_yreal_loss: 0.0457 - val_loss: 12.0317 - val_generator_loss: 11.6662 - val_generator_yfake_loss: 6.0978 - val_generator_yreal_loss: 5.5684 - val_discriminator_loss: 0.3655 - val_discriminator_yfake_loss: 0.0973 - val_discriminator_yreal_loss: 0.2683\n",
            "Epoch 24/100\n",
            "60000/60000 [==============================] - 31s 524us/step - loss: 15.6411 - generator_loss: 15.5606 - generator_yfake_loss: 7.1775 - generator_yreal_loss: 8.3831 - discriminator_loss: 0.0804 - discriminator_yfake_loss: 0.0389 - discriminator_yreal_loss: 0.0416 - val_loss: 12.2071 - val_generator_loss: 11.7271 - val_generator_yfake_loss: 6.5777 - val_generator_yreal_loss: 5.1494 - val_discriminator_loss: 0.4800 - val_discriminator_yfake_loss: 0.0717 - val_discriminator_yreal_loss: 0.4083\n",
            "Epoch 25/100\n",
            "60000/60000 [==============================] - 33s 548us/step - loss: 15.7403 - generator_loss: 15.6487 - generator_yfake_loss: 7.2049 - generator_yreal_loss: 8.4438 - discriminator_loss: 0.0916 - discriminator_yfake_loss: 0.0446 - discriminator_yreal_loss: 0.0470 - val_loss: 10.9153 - val_generator_loss: 10.0583 - val_generator_yfake_loss: 6.4378 - val_generator_yreal_loss: 3.6205 - val_discriminator_loss: 0.8570 - val_discriminator_yfake_loss: 0.0452 - val_discriminator_yreal_loss: 0.8118\n",
            "Epoch 26/100\n",
            "60000/60000 [==============================] - 31s 522us/step - loss: 15.9659 - generator_loss: 15.8992 - generator_yfake_loss: 7.3256 - generator_yreal_loss: 8.5736 - discriminator_loss: 0.0667 - discriminator_yfake_loss: 0.0327 - discriminator_yreal_loss: 0.0340 - val_loss: 12.1749 - val_generator_loss: 11.8464 - val_generator_yfake_loss: 6.0819 - val_generator_yreal_loss: 5.7645 - val_discriminator_loss: 0.3285 - val_discriminator_yfake_loss: 0.0673 - val_discriminator_yreal_loss: 0.2612\n",
            "Epoch 27/100\n",
            "60000/60000 [==============================] - 32s 525us/step - loss: 16.1866 - generator_loss: 16.1161 - generator_yfake_loss: 7.4500 - generator_yreal_loss: 8.6661 - discriminator_loss: 0.0705 - discriminator_yfake_loss: 0.0347 - discriminator_yreal_loss: 0.0358 - val_loss: 13.0983 - val_generator_loss: 11.9053 - val_generator_yfake_loss: 2.1328 - val_generator_yreal_loss: 9.7725 - val_discriminator_loss: 1.1930 - val_discriminator_yfake_loss: 1.1804 - val_discriminator_yreal_loss: 0.0126\n",
            "Epoch 28/100\n",
            "60000/60000 [==============================] - 31s 521us/step - loss: 16.1210 - generator_loss: 16.0368 - generator_yfake_loss: 7.3882 - generator_yreal_loss: 8.6486 - discriminator_loss: 0.0842 - discriminator_yfake_loss: 0.0416 - discriminator_yreal_loss: 0.0426 - val_loss: 17.7624 - val_generator_loss: 14.2542 - val_generator_yfake_loss: 0.8381 - val_generator_yreal_loss: 13.4162 - val_discriminator_loss: 3.5082 - val_discriminator_yfake_loss: 3.5072 - val_discriminator_yreal_loss: 9.6950e-04\n",
            "Epoch 29/100\n",
            "60000/60000 [==============================] - 31s 524us/step - loss: 16.1365 - generator_loss: 16.0548 - generator_yfake_loss: 7.4348 - generator_yreal_loss: 8.6200 - discriminator_loss: 0.0816 - discriminator_yfake_loss: 0.0402 - discriminator_yreal_loss: 0.0414 - val_loss: 12.5603 - val_generator_loss: 11.6997 - val_generator_yfake_loss: 7.2524 - val_generator_yreal_loss: 4.4473 - val_discriminator_loss: 0.8606 - val_discriminator_yfake_loss: 0.0307 - val_discriminator_yreal_loss: 0.8299\n",
            "Epoch 30/100\n",
            "60000/60000 [==============================] - 31s 521us/step - loss: 16.5611 - generator_loss: 16.4957 - generator_yfake_loss: 7.6496 - generator_yreal_loss: 8.8461 - discriminator_loss: 0.0654 - discriminator_yfake_loss: 0.0319 - discriminator_yreal_loss: 0.0336 - val_loss: 13.3898 - val_generator_loss: 12.4892 - val_generator_yfake_loss: 3.0769 - val_generator_yreal_loss: 9.4123 - val_discriminator_loss: 0.9006 - val_discriminator_yfake_loss: 0.8765 - val_discriminator_yreal_loss: 0.0240\n",
            "Epoch 31/100\n",
            "60000/60000 [==============================] - 32s 527us/step - loss: 16.1157 - generator_loss: 16.0264 - generator_yfake_loss: 7.3744 - generator_yreal_loss: 8.6520 - discriminator_loss: 0.0893 - discriminator_yfake_loss: 0.0441 - discriminator_yreal_loss: 0.0452 - val_loss: 12.3494 - val_generator_loss: 12.0964 - val_generator_yfake_loss: 4.7998 - val_generator_yreal_loss: 7.2965 - val_discriminator_loss: 0.2530 - val_discriminator_yfake_loss: 0.1777 - val_discriminator_yreal_loss: 0.0753\n",
            "Epoch 32/100\n",
            "60000/60000 [==============================] - 34s 563us/step - loss: 16.7576 - generator_loss: 16.6986 - generator_yfake_loss: 7.7338 - generator_yreal_loss: 8.9648 - discriminator_loss: 0.0590 - discriminator_yfake_loss: 0.0289 - discriminator_yreal_loss: 0.0301 - val_loss: 12.8208 - val_generator_loss: 12.4802 - val_generator_yfake_loss: 7.1168 - val_generator_yreal_loss: 5.3634 - val_discriminator_loss: 0.3406 - val_discriminator_yfake_loss: 0.0187 - val_discriminator_yreal_loss: 0.3219\n",
            "Epoch 33/100\n",
            "60000/60000 [==============================] - 31s 522us/step - loss: 17.0003 - generator_loss: 16.9392 - generator_yfake_loss: 7.8822 - generator_yreal_loss: 9.0570 - discriminator_loss: 0.0612 - discriminator_yfake_loss: 0.0303 - discriminator_yreal_loss: 0.0309 - val_loss: 16.5555 - val_generator_loss: 13.8672 - val_generator_yfake_loss: 2.2761 - val_generator_yreal_loss: 11.5911 - val_discriminator_loss: 2.6883 - val_discriminator_yfake_loss: 2.6737 - val_discriminator_yreal_loss: 0.0146\n",
            "Epoch 34/100\n",
            "60000/60000 [==============================] - 32s 527us/step - loss: 16.9731 - generator_loss: 16.9084 - generator_yfake_loss: 7.8719 - generator_yreal_loss: 9.0365 - discriminator_loss: 0.0647 - discriminator_yfake_loss: 0.0317 - discriminator_yreal_loss: 0.0330 - val_loss: 13.6039 - val_generator_loss: 12.8873 - val_generator_yfake_loss: 8.3143 - val_generator_yreal_loss: 4.5730 - val_discriminator_loss: 0.7166 - val_discriminator_yfake_loss: 0.0109 - val_discriminator_yreal_loss: 0.7057\n",
            "Epoch 35/100\n",
            "60000/60000 [==============================] - 31s 521us/step - loss: 17.3104 - generator_loss: 17.2587 - generator_yfake_loss: 8.0512 - generator_yreal_loss: 9.2075 - discriminator_loss: 0.0516 - discriminator_yfake_loss: 0.0256 - discriminator_yreal_loss: 0.0260 - val_loss: 13.0780 - val_generator_loss: 12.6402 - val_generator_yfake_loss: 7.3289 - val_generator_yreal_loss: 5.3114 - val_discriminator_loss: 0.4378 - val_discriminator_yfake_loss: 0.0345 - val_discriminator_yreal_loss: 0.4033\n",
            "Epoch 36/100\n",
            "60000/60000 [==============================] - 31s 521us/step - loss: 17.1130 - generator_loss: 17.0455 - generator_yfake_loss: 7.8632 - generator_yreal_loss: 9.1823 - discriminator_loss: 0.0675 - discriminator_yfake_loss: 0.0330 - discriminator_yreal_loss: 0.0345 - val_loss: 13.2852 - val_generator_loss: 12.8925 - val_generator_yfake_loss: 7.6776 - val_generator_yreal_loss: 5.2149 - val_discriminator_loss: 0.3927 - val_discriminator_yfake_loss: 0.0196 - val_discriminator_yreal_loss: 0.3731\n",
            "Epoch 37/100\n",
            "60000/60000 [==============================] - 31s 524us/step - loss: 17.5050 - generator_loss: 17.4537 - generator_yfake_loss: 8.1416 - generator_yreal_loss: 9.3120 - discriminator_loss: 0.0513 - discriminator_yfake_loss: 0.0254 - discriminator_yreal_loss: 0.0259 - val_loss: 13.3407 - val_generator_loss: 12.8253 - val_generator_yfake_loss: 7.2703 - val_generator_yreal_loss: 5.5550 - val_discriminator_loss: 0.5154 - val_discriminator_yfake_loss: 0.0583 - val_discriminator_yreal_loss: 0.4572\n",
            "Epoch 38/100\n",
            "60000/60000 [==============================] - 31s 520us/step - loss: 17.5574 - generator_loss: 17.4850 - generator_yfake_loss: 8.1887 - generator_yreal_loss: 9.2963 - discriminator_loss: 0.0725 - discriminator_yfake_loss: 0.0365 - discriminator_yreal_loss: 0.0360 - val_loss: 18.4854 - val_generator_loss: 14.4308 - val_generator_yfake_loss: 12.8233 - val_generator_yreal_loss: 1.6075 - val_discriminator_loss: 4.0546 - val_discriminator_yfake_loss: 3.9445e-04 - val_discriminator_yreal_loss: 4.0542\n",
            "Epoch 39/100\n",
            "60000/60000 [==============================] - 32s 526us/step - loss: 17.5881 - generator_loss: 17.5387 - generator_yfake_loss: 8.1585 - generator_yreal_loss: 9.3801 - discriminator_loss: 0.0494 - discriminator_yfake_loss: 0.0241 - discriminator_yreal_loss: 0.0253 - val_loss: 13.4211 - val_generator_loss: 13.1540 - val_generator_yfake_loss: 6.6889 - val_generator_yreal_loss: 6.4650 - val_discriminator_loss: 0.2671 - val_discriminator_yfake_loss: 0.0589 - val_discriminator_yreal_loss: 0.2081\n",
            "Epoch 40/100\n",
            "60000/60000 [==============================] - 31s 522us/step - loss: 17.7842 - generator_loss: 17.7285 - generator_yfake_loss: 8.2460 - generator_yreal_loss: 9.4825 - discriminator_loss: 0.0557 - discriminator_yfake_loss: 0.0277 - discriminator_yreal_loss: 0.0280 - val_loss: 13.5098 - val_generator_loss: 13.0950 - val_generator_yfake_loss: 4.9647 - val_generator_yreal_loss: 8.1302 - val_discriminator_loss: 0.4149 - val_discriminator_yfake_loss: 0.3569 - val_discriminator_yreal_loss: 0.0580\n",
            "Epoch 41/100\n",
            "60000/60000 [==============================] - 34s 570us/step - loss: 18.3428 - generator_loss: 18.3068 - generator_yfake_loss: 8.5773 - generator_yreal_loss: 9.7295 - discriminator_loss: 0.0360 - discriminator_yfake_loss: 0.0178 - discriminator_yreal_loss: 0.0182 - val_loss: 13.6418 - val_generator_loss: 13.3707 - val_generator_yfake_loss: 4.9911 - val_generator_yreal_loss: 8.3796 - val_discriminator_loss: 0.2711 - val_discriminator_yfake_loss: 0.2006 - val_discriminator_yreal_loss: 0.0705\n",
            "Epoch 42/100\n",
            "60000/60000 [==============================] - 31s 524us/step - loss: 17.8479 - generator_loss: 17.7911 - generator_yfake_loss: 8.3021 - generator_yreal_loss: 9.4890 - discriminator_loss: 0.0568 - discriminator_yfake_loss: 0.0279 - discriminator_yreal_loss: 0.0289 - val_loss: 14.2582 - val_generator_loss: 13.7657 - val_generator_yfake_loss: 8.6890 - val_generator_yreal_loss: 5.0767 - val_discriminator_loss: 0.4924 - val_discriminator_yfake_loss: 0.0094 - val_discriminator_yreal_loss: 0.4831\n",
            "Epoch 43/100\n",
            "60000/60000 [==============================] - 31s 521us/step - loss: 18.4096 - generator_loss: 18.3652 - generator_yfake_loss: 8.6383 - generator_yreal_loss: 9.7268 - discriminator_loss: 0.0444 - discriminator_yfake_loss: 0.0225 - discriminator_yreal_loss: 0.0219 - val_loss: 15.3566 - val_generator_loss: 14.1600 - val_generator_yfake_loss: 2.4489 - val_generator_yreal_loss: 11.7111 - val_discriminator_loss: 1.1966 - val_discriminator_yfake_loss: 1.1920 - val_discriminator_yreal_loss: 0.0046\n",
            "Epoch 44/100\n",
            "60000/60000 [==============================] - 31s 525us/step - loss: 17.9535 - generator_loss: 17.8873 - generator_yfake_loss: 8.3851 - generator_yreal_loss: 9.5021 - discriminator_loss: 0.0662 - discriminator_yfake_loss: 0.0334 - discriminator_yreal_loss: 0.0328 - val_loss: 14.1366 - val_generator_loss: 13.9046 - val_generator_yfake_loss: 4.7445 - val_generator_yreal_loss: 9.1600 - val_discriminator_loss: 0.2321 - val_discriminator_yfake_loss: 0.2019 - val_discriminator_yreal_loss: 0.0301\n",
            "Epoch 45/100\n",
            "60000/60000 [==============================] - 31s 522us/step - loss: 18.7490 - generator_loss: 18.7122 - generator_yfake_loss: 8.8107 - generator_yreal_loss: 9.9016 - discriminator_loss: 0.0368 - discriminator_yfake_loss: 0.0186 - discriminator_yreal_loss: 0.0182 - val_loss: 14.7069 - val_generator_loss: 13.9792 - val_generator_yfake_loss: 4.4529 - val_generator_yreal_loss: 9.5263 - val_discriminator_loss: 0.7277 - val_discriminator_yfake_loss: 0.6927 - val_discriminator_yreal_loss: 0.0350\n",
            "Epoch 46/100\n",
            "60000/60000 [==============================] - 31s 520us/step - loss: 18.4085 - generator_loss: 18.3568 - generator_yfake_loss: 8.5982 - generator_yreal_loss: 9.7586 - discriminator_loss: 0.0517 - discriminator_yfake_loss: 0.0259 - discriminator_yreal_loss: 0.0257 - val_loss: 14.7550 - val_generator_loss: 13.8299 - val_generator_yfake_loss: 9.4599 - val_generator_yreal_loss: 4.3700 - val_discriminator_loss: 0.9251 - val_discriminator_yfake_loss: 0.0084 - val_discriminator_yreal_loss: 0.9167\n",
            "Epoch 47/100\n",
            "60000/60000 [==============================] - 31s 525us/step - loss: 18.7236 - generator_loss: 18.6839 - generator_yfake_loss: 8.8122 - generator_yreal_loss: 9.8718 - discriminator_loss: 0.0397 - discriminator_yfake_loss: 0.0199 - discriminator_yreal_loss: 0.0197 - val_loss: 14.4893 - val_generator_loss: 14.2780 - val_generator_yfake_loss: 5.3992 - val_generator_yreal_loss: 8.8788 - val_discriminator_loss: 0.2113 - val_discriminator_yfake_loss: 0.1748 - val_discriminator_yreal_loss: 0.0365\n",
            "Epoch 48/100\n",
            "60000/60000 [==============================] - 31s 520us/step - loss: 18.6351 - generator_loss: 18.5831 - generator_yfake_loss: 8.7551 - generator_yreal_loss: 9.8281 - discriminator_loss: 0.0520 - discriminator_yfake_loss: 0.0264 - discriminator_yreal_loss: 0.0256 - val_loss: 15.6517 - val_generator_loss: 14.5054 - val_generator_yfake_loss: 10.7252 - val_generator_yreal_loss: 3.7802 - val_discriminator_loss: 1.1464 - val_discriminator_yfake_loss: 0.0020 - val_discriminator_yreal_loss: 1.1444\n",
            "Epoch 49/100\n",
            "60000/60000 [==============================] - 31s 521us/step - loss: 18.7297 - generator_loss: 18.6778 - generator_yfake_loss: 8.7842 - generator_yreal_loss: 9.8936 - discriminator_loss: 0.0519 - discriminator_yfake_loss: 0.0255 - discriminator_yreal_loss: 0.0264 - val_loss: 14.6730 - val_generator_loss: 14.2810 - val_generator_yfake_loss: 5.8899 - val_generator_yreal_loss: 8.3912 - val_discriminator_loss: 0.3920 - val_discriminator_yfake_loss: 0.2990 - val_discriminator_yreal_loss: 0.0930\n",
            "Epoch 50/100\n",
            "60000/60000 [==============================] - 32s 531us/step - loss: 18.6837 - generator_loss: 18.6385 - generator_yfake_loss: 8.8489 - generator_yreal_loss: 9.7896 - discriminator_loss: 0.0453 - discriminator_yfake_loss: 0.0234 - discriminator_yreal_loss: 0.0219 - val_loss: 14.1822 - val_generator_loss: 13.9785 - val_generator_yfake_loss: 6.7746 - val_generator_yreal_loss: 7.2039 - val_discriminator_loss: 0.2037 - val_discriminator_yfake_loss: 0.0646 - val_discriminator_yreal_loss: 0.1391\n",
            "Epoch 51/100\n",
            "60000/60000 [==============================] - 31s 523us/step - loss: 18.7906 - generator_loss: 18.7344 - generator_yfake_loss: 8.8487 - generator_yreal_loss: 9.8857 - discriminator_loss: 0.0562 - discriminator_yfake_loss: 0.0281 - discriminator_yreal_loss: 0.0281 - val_loss: 14.5428 - val_generator_loss: 14.2198 - val_generator_yfake_loss: 8.0128 - val_generator_yreal_loss: 6.2071 - val_discriminator_loss: 0.3230 - val_discriminator_yfake_loss: 0.0281 - val_discriminator_yreal_loss: 0.2949\n",
            "Epoch 52/100\n",
            "60000/60000 [==============================] - 35s 582us/step - loss: 19.1751 - generator_loss: 19.1395 - generator_yfake_loss: 9.0560 - generator_yreal_loss: 10.0835 - discriminator_loss: 0.0356 - discriminator_yfake_loss: 0.0180 - discriminator_yreal_loss: 0.0177 - val_loss: 17.1485 - val_generator_loss: 15.3537 - val_generator_yfake_loss: 2.6084 - val_generator_yreal_loss: 12.7453 - val_discriminator_loss: 1.7948 - val_discriminator_yfake_loss: 1.7918 - val_discriminator_yreal_loss: 0.0029\n",
            "Epoch 53/100\n",
            "60000/60000 [==============================] - 31s 521us/step - loss: 19.2991 - generator_loss: 19.2622 - generator_yfake_loss: 9.1168 - generator_yreal_loss: 10.1454 - discriminator_loss: 0.0370 - discriminator_yfake_loss: 0.0184 - discriminator_yreal_loss: 0.0186 - val_loss: 14.3888 - val_generator_loss: 13.9747 - val_generator_yfake_loss: 8.2780 - val_generator_yreal_loss: 5.6967 - val_discriminator_loss: 0.4141 - val_discriminator_yfake_loss: 0.0540 - val_discriminator_yreal_loss: 0.3601\n",
            "Epoch 54/100\n",
            "60000/60000 [==============================] - 31s 521us/step - loss: 18.8789 - generator_loss: 18.8273 - generator_yfake_loss: 8.9274 - generator_yreal_loss: 9.8999 - discriminator_loss: 0.0516 - discriminator_yfake_loss: 0.0255 - discriminator_yreal_loss: 0.0261 - val_loss: 13.9495 - val_generator_loss: 13.2258 - val_generator_yfake_loss: 3.8382 - val_generator_yreal_loss: 9.3876 - val_discriminator_loss: 0.7237 - val_discriminator_yfake_loss: 0.6607 - val_discriminator_yreal_loss: 0.0629\n",
            "Epoch 55/100\n",
            "60000/60000 [==============================] - 31s 524us/step - loss: 19.4649 - generator_loss: 19.4327 - generator_yfake_loss: 9.2645 - generator_yreal_loss: 10.1681 - discriminator_loss: 0.0322 - discriminator_yfake_loss: 0.0162 - discriminator_yreal_loss: 0.0160 - val_loss: 14.9128 - val_generator_loss: 14.6751 - val_generator_yfake_loss: 5.5901 - val_generator_yreal_loss: 9.0850 - val_discriminator_loss: 0.2377 - val_discriminator_yfake_loss: 0.1964 - val_discriminator_yreal_loss: 0.0414\n",
            "Epoch 56/100\n",
            "60000/60000 [==============================] - 31s 520us/step - loss: 19.1923 - generator_loss: 19.1483 - generator_yfake_loss: 9.0937 - generator_yreal_loss: 10.0546 - discriminator_loss: 0.0440 - discriminator_yfake_loss: 0.0223 - discriminator_yreal_loss: 0.0217 - val_loss: 14.8440 - val_generator_loss: 14.6465 - val_generator_yfake_loss: 7.7548 - val_generator_yreal_loss: 6.8917 - val_discriminator_loss: 0.1975 - val_discriminator_yfake_loss: 0.0276 - val_discriminator_yreal_loss: 0.1699\n",
            "Epoch 57/100\n",
            "60000/60000 [==============================] - 31s 525us/step - loss: 19.5670 - generator_loss: 19.5329 - generator_yfake_loss: 9.3149 - generator_yreal_loss: 10.2180 - discriminator_loss: 0.0341 - discriminator_yfake_loss: 0.0174 - discriminator_yreal_loss: 0.0167 - val_loss: 14.4604 - val_generator_loss: 14.2751 - val_generator_yfake_loss: 6.7292 - val_generator_yreal_loss: 7.5459 - val_discriminator_loss: 0.1853 - val_discriminator_yfake_loss: 0.0906 - val_discriminator_yreal_loss: 0.0947\n",
            "Epoch 58/100\n",
            "60000/60000 [==============================] - 31s 520us/step - loss: 19.3150 - generator_loss: 19.2674 - generator_yfake_loss: 9.2003 - generator_yreal_loss: 10.0671 - discriminator_loss: 0.0475 - discriminator_yfake_loss: 0.0238 - discriminator_yreal_loss: 0.0238 - val_loss: 14.5052 - val_generator_loss: 14.3151 - val_generator_yfake_loss: 6.9472 - val_generator_yreal_loss: 7.3679 - val_discriminator_loss: 0.1900 - val_discriminator_yfake_loss: 0.0675 - val_discriminator_yreal_loss: 0.1225\n",
            "Epoch 59/100\n",
            "60000/60000 [==============================] - 31s 520us/step - loss: 19.3239 - generator_loss: 19.2776 - generator_yfake_loss: 9.2014 - generator_yreal_loss: 10.0761 - discriminator_loss: 0.0463 - discriminator_yfake_loss: 0.0231 - discriminator_yreal_loss: 0.0233 - val_loss: 14.7083 - val_generator_loss: 14.5189 - val_generator_yfake_loss: 7.0523 - val_generator_yreal_loss: 7.4666 - val_discriminator_loss: 0.1894 - val_discriminator_yfake_loss: 0.0753 - val_discriminator_yreal_loss: 0.1141\n",
            "Epoch 60/100\n",
            "60000/60000 [==============================] - 32s 529us/step - loss: 19.7908 - generator_loss: 19.7622 - generator_yfake_loss: 9.4328 - generator_yreal_loss: 10.3294 - discriminator_loss: 0.0286 - discriminator_yfake_loss: 0.0147 - discriminator_yreal_loss: 0.0139 - val_loss: 14.9081 - val_generator_loss: 14.7450 - val_generator_yfake_loss: 6.8245 - val_generator_yreal_loss: 7.9205 - val_discriminator_loss: 0.1631 - val_discriminator_yfake_loss: 0.0692 - val_discriminator_yreal_loss: 0.0939\n",
            "Epoch 61/100\n",
            "60000/60000 [==============================] - 31s 522us/step - loss: 19.7465 - generator_loss: 19.7137 - generator_yfake_loss: 9.3933 - generator_yreal_loss: 10.3205 - discriminator_loss: 0.0328 - discriminator_yfake_loss: 0.0168 - discriminator_yreal_loss: 0.0160 - val_loss: 15.1770 - val_generator_loss: 14.9822 - val_generator_yfake_loss: 6.6717 - val_generator_yreal_loss: 8.3105 - val_discriminator_loss: 0.1948 - val_discriminator_yfake_loss: 0.1097 - val_discriminator_yreal_loss: 0.0851\n",
            "Epoch 62/100\n",
            "60000/60000 [==============================] - 32s 528us/step - loss: 19.7901 - generator_loss: 19.7535 - generator_yfake_loss: 9.4097 - generator_yreal_loss: 10.3438 - discriminator_loss: 0.0366 - discriminator_yfake_loss: 0.0185 - discriminator_yreal_loss: 0.0181 - val_loss: 16.9840 - val_generator_loss: 15.3138 - val_generator_yfake_loss: 12.3077 - val_generator_yreal_loss: 3.0061 - val_discriminator_loss: 1.6703 - val_discriminator_yfake_loss: 5.0517e-04 - val_discriminator_yreal_loss: 1.6698\n",
            "Epoch 63/100\n",
            "60000/60000 [==============================] - 31s 520us/step - loss: 19.7940 - generator_loss: 19.7487 - generator_yfake_loss: 9.4176 - generator_yreal_loss: 10.3311 - discriminator_loss: 0.0453 - discriminator_yfake_loss: 0.0225 - discriminator_yreal_loss: 0.0228 - val_loss: 16.1345 - val_generator_loss: 15.0105 - val_generator_yfake_loss: 11.0602 - val_generator_yreal_loss: 3.9503 - val_discriminator_loss: 1.1240 - val_discriminator_yfake_loss: 0.0015 - val_discriminator_yreal_loss: 1.1225\n",
            "Epoch 64/100\n",
            "60000/60000 [==============================] - 31s 520us/step - loss: 20.0111 - generator_loss: 19.9841 - generator_yfake_loss: 9.5669 - generator_yreal_loss: 10.4173 - discriminator_loss: 0.0270 - discriminator_yfake_loss: 0.0141 - discriminator_yreal_loss: 0.0129 - val_loss: 15.3624 - val_generator_loss: 15.1392 - val_generator_yfake_loss: 6.1347 - val_generator_yreal_loss: 9.0045 - val_discriminator_loss: 0.2232 - val_discriminator_yfake_loss: 0.1532 - val_discriminator_yreal_loss: 0.0700\n",
            "Epoch 65/100\n",
            "60000/60000 [==============================] - 31s 524us/step - loss: 20.0008 - generator_loss: 19.9609 - generator_yfake_loss: 9.5271 - generator_yreal_loss: 10.4338 - discriminator_loss: 0.0399 - discriminator_yfake_loss: 0.0203 - discriminator_yreal_loss: 0.0196 - val_loss: 15.4080 - val_generator_loss: 15.2318 - val_generator_yfake_loss: 7.3586 - val_generator_yreal_loss: 7.8732 - val_discriminator_loss: 0.1762 - val_discriminator_yfake_loss: 0.0544 - val_discriminator_yreal_loss: 0.1218\n",
            "Epoch 66/100\n",
            "60000/60000 [==============================] - 31s 520us/step - loss: 20.0482 - generator_loss: 20.0156 - generator_yfake_loss: 9.5924 - generator_yreal_loss: 10.4232 - discriminator_loss: 0.0326 - discriminator_yfake_loss: 0.0163 - discriminator_yreal_loss: 0.0163 - val_loss: 16.1822 - val_generator_loss: 15.4965 - val_generator_yfake_loss: 3.9396 - val_generator_yreal_loss: 11.5569 - val_discriminator_loss: 0.6857 - val_discriminator_yfake_loss: 0.6794 - val_discriminator_yreal_loss: 0.0064\n",
            "Epoch 67/100\n",
            "60000/60000 [==============================] - 36s 598us/step - loss: 20.2778 - generator_loss: 20.2511 - generator_yfake_loss: 9.7004 - generator_yreal_loss: 10.5507 - discriminator_loss: 0.0267 - discriminator_yfake_loss: 0.0142 - discriminator_yreal_loss: 0.0125 - val_loss: 15.3710 - val_generator_loss: 15.1620 - val_generator_yfake_loss: 7.8747 - val_generator_yreal_loss: 7.2873 - val_discriminator_loss: 0.2091 - val_discriminator_yfake_loss: 0.0422 - val_discriminator_yreal_loss: 0.1669\n",
            "Epoch 68/100\n",
            "60000/60000 [==============================] - 31s 521us/step - loss: 20.1534 - generator_loss: 20.1100 - generator_yfake_loss: 9.5587 - generator_yreal_loss: 10.5513 - discriminator_loss: 0.0435 - discriminator_yfake_loss: 0.0216 - discriminator_yreal_loss: 0.0219 - val_loss: 16.1101 - val_generator_loss: 15.5226 - val_generator_yfake_loss: 4.0792 - val_generator_yreal_loss: 11.4434 - val_discriminator_loss: 0.5875 - val_discriminator_yfake_loss: 0.5704 - val_discriminator_yreal_loss: 0.0171\n",
            "Epoch 69/100\n",
            "60000/60000 [==============================] - 31s 520us/step - loss: 20.3794 - generator_loss: 20.3528 - generator_yfake_loss: 9.6982 - generator_yreal_loss: 10.6545 - discriminator_loss: 0.0266 - discriminator_yfake_loss: 0.0135 - discriminator_yreal_loss: 0.0131 - val_loss: 15.5151 - val_generator_loss: 15.2346 - val_generator_yfake_loss: 6.9256 - val_generator_yreal_loss: 8.3090 - val_discriminator_loss: 0.2805 - val_discriminator_yfake_loss: 0.1352 - val_discriminator_yreal_loss: 0.1453\n",
            "Epoch 70/100\n",
            "60000/60000 [==============================] - 32s 526us/step - loss: 19.9669 - generator_loss: 19.9195 - generator_yfake_loss: 9.4461 - generator_yreal_loss: 10.4735 - discriminator_loss: 0.0474 - discriminator_yfake_loss: 0.0240 - discriminator_yreal_loss: 0.0234 - val_loss: 14.9812 - val_generator_loss: 14.8098 - val_generator_yfake_loss: 6.2666 - val_generator_yreal_loss: 8.5432 - val_discriminator_loss: 0.1714 - val_discriminator_yfake_loss: 0.1230 - val_discriminator_yreal_loss: 0.0484\n",
            "Epoch 71/100\n",
            "60000/60000 [==============================] - 31s 521us/step - loss: 20.5127 - generator_loss: 20.4912 - generator_yfake_loss: 9.8080 - generator_yreal_loss: 10.6832 - discriminator_loss: 0.0215 - discriminator_yfake_loss: 0.0109 - discriminator_yreal_loss: 0.0106 - val_loss: 16.2448 - val_generator_loss: 15.7524 - val_generator_yfake_loss: 9.6463 - val_generator_yreal_loss: 6.1061 - val_discriminator_loss: 0.4923 - val_discriminator_yfake_loss: 0.0112 - val_discriminator_yreal_loss: 0.4812\n",
            "Epoch 72/100\n",
            "60000/60000 [==============================] - 31s 525us/step - loss: 20.3174 - generator_loss: 20.2777 - generator_yfake_loss: 9.6551 - generator_yreal_loss: 10.6226 - discriminator_loss: 0.0398 - discriminator_yfake_loss: 0.0201 - discriminator_yreal_loss: 0.0197 - val_loss: 15.0391 - val_generator_loss: 14.8969 - val_generator_yfake_loss: 6.7872 - val_generator_yreal_loss: 8.1097 - val_discriminator_loss: 0.1422 - val_discriminator_yfake_loss: 0.0563 - val_discriminator_yreal_loss: 0.0859\n",
            "Epoch 73/100\n",
            "60000/60000 [==============================] - 31s 521us/step - loss: 20.1388 - generator_loss: 20.1065 - generator_yfake_loss: 9.5959 - generator_yreal_loss: 10.5107 - discriminator_loss: 0.0323 - discriminator_yfake_loss: 0.0166 - discriminator_yreal_loss: 0.0157 - val_loss: 15.5823 - val_generator_loss: 15.4171 - val_generator_yfake_loss: 6.8015 - val_generator_yreal_loss: 8.6155 - val_discriminator_loss: 0.1653 - val_discriminator_yfake_loss: 0.0765 - val_discriminator_yreal_loss: 0.0888\n",
            "Epoch 74/100\n",
            "60000/60000 [==============================] - 31s 520us/step - loss: 20.7348 - generator_loss: 20.7102 - generator_yfake_loss: 9.9257 - generator_yreal_loss: 10.7845 - discriminator_loss: 0.0246 - discriminator_yfake_loss: 0.0126 - discriminator_yreal_loss: 0.0120 - val_loss: 15.5525 - val_generator_loss: 15.3884 - val_generator_yfake_loss: 7.3836 - val_generator_yreal_loss: 8.0048 - val_discriminator_loss: 0.1641 - val_discriminator_yfake_loss: 0.0476 - val_discriminator_yreal_loss: 0.1165\n",
            "Epoch 75/100\n",
            "60000/60000 [==============================] - 31s 524us/step - loss: 20.7499 - generator_loss: 20.7220 - generator_yfake_loss: 9.9136 - generator_yreal_loss: 10.8084 - discriminator_loss: 0.0279 - discriminator_yfake_loss: 0.0140 - discriminator_yreal_loss: 0.0138 - val_loss: 15.9719 - val_generator_loss: 15.8125 - val_generator_yfake_loss: 7.5775 - val_generator_yreal_loss: 8.2350 - val_discriminator_loss: 0.1594 - val_discriminator_yfake_loss: 0.0475 - val_discriminator_yreal_loss: 0.1119\n",
            "Epoch 76/100\n",
            "60000/60000 [==============================] - 31s 520us/step - loss: 20.7121 - generator_loss: 20.6839 - generator_yfake_loss: 9.8906 - generator_yreal_loss: 10.7934 - discriminator_loss: 0.0282 - discriminator_yfake_loss: 0.0143 - discriminator_yreal_loss: 0.0139 - val_loss: 15.8666 - val_generator_loss: 15.6661 - val_generator_yfake_loss: 8.5555 - val_generator_yreal_loss: 7.1106 - val_discriminator_loss: 0.2005 - val_discriminator_yfake_loss: 0.0219 - val_discriminator_yreal_loss: 0.1786\n",
            "Epoch 77/100\n",
            "60000/60000 [==============================] - 31s 524us/step - loss: 20.6602 - generator_loss: 20.6271 - generator_yfake_loss: 9.8635 - generator_yreal_loss: 10.7636 - discriminator_loss: 0.0330 - discriminator_yfake_loss: 0.0165 - discriminator_yreal_loss: 0.0165 - val_loss: 16.4523 - val_generator_loss: 15.7471 - val_generator_yfake_loss: 11.0292 - val_generator_yreal_loss: 4.7179 - val_discriminator_loss: 0.7052 - val_discriminator_yfake_loss: 0.0032 - val_discriminator_yreal_loss: 0.7020\n",
            "Epoch 78/100\n",
            "60000/60000 [==============================] - 31s 523us/step - loss: 20.7025 - generator_loss: 20.6742 - generator_yfake_loss: 9.8925 - generator_yreal_loss: 10.7817 - discriminator_loss: 0.0283 - discriminator_yfake_loss: 0.0146 - discriminator_yreal_loss: 0.0137 - val_loss: 16.3251 - val_generator_loss: 15.7542 - val_generator_yfake_loss: 10.7327 - val_generator_yreal_loss: 5.0215 - val_discriminator_loss: 0.5709 - val_discriminator_yfake_loss: 0.0030 - val_discriminator_yreal_loss: 0.5679\n",
            "Epoch 79/100\n",
            "60000/60000 [==============================] - 31s 519us/step - loss: 20.9868 - generator_loss: 20.9606 - generator_yfake_loss: 10.0174 - generator_yreal_loss: 10.9431 - discriminator_loss: 0.0262 - discriminator_yfake_loss: 0.0132 - discriminator_yreal_loss: 0.0130 - val_loss: 23.1286 - val_generator_loss: 16.7666 - val_generator_yfake_loss: 1.3639 - val_generator_yreal_loss: 15.4027 - val_discriminator_loss: 6.3620 - val_discriminator_yfake_loss: 6.3619 - val_discriminator_yreal_loss: 1.3832e-04\n",
            "Epoch 80/100\n",
            "60000/60000 [==============================] - 32s 528us/step - loss: 20.5488 - generator_loss: 20.5114 - generator_yfake_loss: 9.7560 - generator_yreal_loss: 10.7554 - discriminator_loss: 0.0374 - discriminator_yfake_loss: 0.0190 - discriminator_yreal_loss: 0.0184 - val_loss: 15.9749 - val_generator_loss: 15.6854 - val_generator_yfake_loss: 9.2193 - val_generator_yreal_loss: 6.4661 - val_discriminator_loss: 0.2894 - val_discriminator_yfake_loss: 0.0092 - val_discriminator_yreal_loss: 0.2802\n",
            "Epoch 81/100\n",
            "60000/60000 [==============================] - 31s 521us/step - loss: 21.1345 - generator_loss: 21.1136 - generator_yfake_loss: 10.1323 - generator_yreal_loss: 10.9813 - discriminator_loss: 0.0208 - discriminator_yfake_loss: 0.0105 - discriminator_yreal_loss: 0.0103 - val_loss: 15.7842 - val_generator_loss: 15.4432 - val_generator_yfake_loss: 5.4268 - val_generator_yreal_loss: 10.0164 - val_discriminator_loss: 0.3410 - val_discriminator_yfake_loss: 0.2802 - val_discriminator_yreal_loss: 0.0608\n",
            "Epoch 82/100\n",
            "60000/60000 [==============================] - 31s 518us/step - loss: 20.9242 - generator_loss: 20.8973 - generator_yfake_loss: 10.0104 - generator_yreal_loss: 10.8869 - discriminator_loss: 0.0269 - discriminator_yfake_loss: 0.0137 - discriminator_yreal_loss: 0.0132 - val_loss: 16.6762 - val_generator_loss: 16.0813 - val_generator_yfake_loss: 10.4195 - val_generator_yreal_loss: 5.6618 - val_discriminator_loss: 0.5949 - val_discriminator_yfake_loss: 0.0042 - val_discriminator_yreal_loss: 0.5907\n",
            "Epoch 83/100\n",
            "60000/60000 [==============================] - 31s 523us/step - loss: 21.1266 - generator_loss: 21.0983 - generator_yfake_loss: 10.1619 - generator_yreal_loss: 10.9364 - discriminator_loss: 0.0283 - discriminator_yfake_loss: 0.0145 - discriminator_yreal_loss: 0.0138 - val_loss: 15.9339 - val_generator_loss: 15.6527 - val_generator_yfake_loss: 8.8551 - val_generator_yreal_loss: 6.7976 - val_discriminator_loss: 0.2813 - val_discriminator_yfake_loss: 0.0215 - val_discriminator_yreal_loss: 0.2597\n",
            "Epoch 84/100\n",
            "60000/60000 [==============================] - 37s 610us/step - loss: 21.1540 - generator_loss: 21.1331 - generator_yfake_loss: 10.1425 - generator_yreal_loss: 10.9906 - discriminator_loss: 0.0209 - discriminator_yfake_loss: 0.0107 - discriminator_yreal_loss: 0.0101 - val_loss: 18.3185 - val_generator_loss: 16.3512 - val_generator_yfake_loss: 2.5984 - val_generator_yreal_loss: 13.7528 - val_discriminator_loss: 1.9673 - val_discriminator_yfake_loss: 1.9655 - val_discriminator_yreal_loss: 0.0019\n",
            "Epoch 85/100\n",
            "60000/60000 [==============================] - 31s 524us/step - loss: 21.3363 - generator_loss: 21.3131 - generator_yfake_loss: 10.2699 - generator_yreal_loss: 11.0432 - discriminator_loss: 0.0233 - discriminator_yfake_loss: 0.0122 - discriminator_yreal_loss: 0.0111 - val_loss: 17.1705 - val_generator_loss: 16.3444 - val_generator_yfake_loss: 4.0801 - val_generator_yreal_loss: 12.2643 - val_discriminator_loss: 0.8261 - val_discriminator_yfake_loss: 0.8181 - val_discriminator_yreal_loss: 0.0079\n",
            "Epoch 86/100\n",
            "60000/60000 [==============================] - 31s 519us/step - loss: 20.7425 - generator_loss: 20.7026 - generator_yfake_loss: 9.9613 - generator_yreal_loss: 10.7412 - discriminator_loss: 0.0399 - discriminator_yfake_loss: 0.0195 - discriminator_yreal_loss: 0.0204 - val_loss: 15.9133 - val_generator_loss: 15.2541 - val_generator_yfake_loss: 5.6017 - val_generator_yreal_loss: 9.6524 - val_discriminator_loss: 0.6592 - val_discriminator_yfake_loss: 0.5751 - val_discriminator_yreal_loss: 0.0841\n",
            "Epoch 87/100\n",
            "60000/60000 [==============================] - 31s 519us/step - loss: 21.3717 - generator_loss: 21.3529 - generator_yfake_loss: 10.3077 - generator_yreal_loss: 11.0453 - discriminator_loss: 0.0187 - discriminator_yfake_loss: 0.0096 - discriminator_yreal_loss: 0.0091 - val_loss: 16.0221 - val_generator_loss: 15.5278 - val_generator_yfake_loss: 10.0998 - val_generator_yreal_loss: 5.4280 - val_discriminator_loss: 0.4943 - val_discriminator_yfake_loss: 0.0067 - val_discriminator_yreal_loss: 0.4875\n",
            "Epoch 88/100\n",
            "60000/60000 [==============================] - 31s 523us/step - loss: 21.7517 - generator_loss: 21.7307 - generator_yfake_loss: 10.5372 - generator_yreal_loss: 11.1935 - discriminator_loss: 0.0210 - discriminator_yfake_loss: 0.0107 - discriminator_yreal_loss: 0.0103 - val_loss: 15.5967 - val_generator_loss: 15.2332 - val_generator_yfake_loss: 9.3753 - val_generator_yreal_loss: 5.8579 - val_discriminator_loss: 0.3635 - val_discriminator_yfake_loss: 0.0181 - val_discriminator_yreal_loss: 0.3454\n",
            "Epoch 89/100\n",
            "60000/60000 [==============================] - 31s 519us/step - loss: 21.1303 - generator_loss: 21.0945 - generator_yfake_loss: 10.1692 - generator_yreal_loss: 10.9253 - discriminator_loss: 0.0358 - discriminator_yfake_loss: 0.0182 - discriminator_yreal_loss: 0.0176 - val_loss: 16.5373 - val_generator_loss: 16.0736 - val_generator_yfake_loss: 4.7813 - val_generator_yreal_loss: 11.2923 - val_discriminator_loss: 0.4636 - val_discriminator_yfake_loss: 0.4521 - val_discriminator_yreal_loss: 0.0115\n",
            "Epoch 90/100\n",
            "60000/60000 [==============================] - 32s 528us/step - loss: 21.4849 - generator_loss: 21.4681 - generator_yfake_loss: 10.3080 - generator_yreal_loss: 11.1601 - discriminator_loss: 0.0169 - discriminator_yfake_loss: 0.0089 - discriminator_yreal_loss: 0.0080 - val_loss: 16.8720 - val_generator_loss: 16.2994 - val_generator_yfake_loss: 10.7394 - val_generator_yreal_loss: 5.5600 - val_discriminator_loss: 0.5726 - val_discriminator_yfake_loss: 0.0026 - val_discriminator_yreal_loss: 0.5700\n",
            "Epoch 91/100\n",
            "60000/60000 [==============================] - 31s 519us/step - loss: 21.4483 - generator_loss: 21.4236 - generator_yfake_loss: 10.3684 - generator_yreal_loss: 11.0553 - discriminator_loss: 0.0247 - discriminator_yfake_loss: 0.0124 - discriminator_yreal_loss: 0.0123 - val_loss: 16.5636 - val_generator_loss: 16.3909 - val_generator_yfake_loss: 7.1812 - val_generator_yreal_loss: 9.2097 - val_discriminator_loss: 0.1727 - val_discriminator_yfake_loss: 0.1090 - val_discriminator_yreal_loss: 0.0637\n",
            "Epoch 92/100\n",
            "60000/60000 [==============================] - 31s 518us/step - loss: 21.6630 - generator_loss: 21.6427 - generator_yfake_loss: 10.4942 - generator_yreal_loss: 11.1485 - discriminator_loss: 0.0204 - discriminator_yfake_loss: 0.0104 - discriminator_yreal_loss: 0.0099 - val_loss: 16.5571 - val_generator_loss: 16.3781 - val_generator_yfake_loss: 6.5146 - val_generator_yreal_loss: 9.8634 - val_discriminator_loss: 0.1790 - val_discriminator_yfake_loss: 0.1440 - val_discriminator_yreal_loss: 0.0350\n",
            "Epoch 93/100\n",
            "60000/60000 [==============================] - 31s 523us/step - loss: 21.7123 - generator_loss: 21.6903 - generator_yfake_loss: 10.4727 - generator_yreal_loss: 11.2176 - discriminator_loss: 0.0220 - discriminator_yfake_loss: 0.0110 - discriminator_yreal_loss: 0.0110 - val_loss: 16.5983 - val_generator_loss: 16.4158 - val_generator_yfake_loss: 7.3506 - val_generator_yreal_loss: 9.0652 - val_discriminator_loss: 0.1825 - val_discriminator_yfake_loss: 0.0823 - val_discriminator_yreal_loss: 0.1002\n",
            "Epoch 94/100\n",
            "60000/60000 [==============================] - 31s 519us/step - loss: 21.6603 - generator_loss: 21.6357 - generator_yfake_loss: 10.5107 - generator_yreal_loss: 11.1250 - discriminator_loss: 0.0246 - discriminator_yfake_loss: 0.0126 - discriminator_yreal_loss: 0.0119 - val_loss: 16.9018 - val_generator_loss: 16.6804 - val_generator_yfake_loss: 6.3235 - val_generator_yreal_loss: 10.3569 - val_discriminator_loss: 0.2214 - val_discriminator_yfake_loss: 0.1960 - val_discriminator_yreal_loss: 0.0255\n",
            "Epoch 95/100\n",
            "60000/60000 [==============================] - 32s 526us/step - loss: 22.0367 - generator_loss: 22.0195 - generator_yfake_loss: 10.6899 - generator_yreal_loss: 11.3296 - discriminator_loss: 0.0173 - discriminator_yfake_loss: 0.0090 - discriminator_yreal_loss: 0.0082 - val_loss: 17.4551 - val_generator_loss: 16.9089 - val_generator_yfake_loss: 6.1276 - val_generator_yreal_loss: 10.7813 - val_discriminator_loss: 0.5462 - val_discriminator_yfake_loss: 0.4992 - val_discriminator_yreal_loss: 0.0470\n",
            "Epoch 96/100\n",
            "60000/60000 [==============================] - 31s 520us/step - loss: 21.5218 - generator_loss: 21.4906 - generator_yfake_loss: 10.4508 - generator_yreal_loss: 11.0398 - discriminator_loss: 0.0312 - discriminator_yfake_loss: 0.0163 - discriminator_yreal_loss: 0.0150 - val_loss: 16.4650 - val_generator_loss: 16.2202 - val_generator_yfake_loss: 5.7094 - val_generator_yreal_loss: 10.5108 - val_discriminator_loss: 0.2448 - val_discriminator_yfake_loss: 0.2245 - val_discriminator_yreal_loss: 0.0203\n",
            "Epoch 97/100\n",
            "60000/60000 [==============================] - 31s 519us/step - loss: 22.0472 - generator_loss: 22.0340 - generator_yfake_loss: 10.7849 - generator_yreal_loss: 11.2491 - discriminator_loss: 0.0132 - discriminator_yfake_loss: 0.0069 - discriminator_yreal_loss: 0.0063 - val_loss: 17.0194 - val_generator_loss: 16.8540 - val_generator_yfake_loss: 7.9058 - val_generator_yreal_loss: 8.9482 - val_discriminator_loss: 0.1653 - val_discriminator_yfake_loss: 0.0855 - val_discriminator_yreal_loss: 0.0798\n",
            "Epoch 98/100\n",
            "60000/60000 [==============================] - 31s 524us/step - loss: 22.1147 - generator_loss: 22.0937 - generator_yfake_loss: 10.7629 - generator_yreal_loss: 11.3308 - discriminator_loss: 0.0211 - discriminator_yfake_loss: 0.0110 - discriminator_yreal_loss: 0.0101 - val_loss: 16.9639 - val_generator_loss: 16.7823 - val_generator_yfake_loss: 6.6035 - val_generator_yreal_loss: 10.1788 - val_discriminator_loss: 0.1816 - val_discriminator_yfake_loss: 0.1445 - val_discriminator_yreal_loss: 0.0371\n",
            "Epoch 99/100\n",
            "60000/60000 [==============================] - 31s 524us/step - loss: 21.7838 - generator_loss: 21.7616 - generator_yfake_loss: 10.5700 - generator_yreal_loss: 11.1916 - discriminator_loss: 0.0222 - discriminator_yfake_loss: 0.0113 - discriminator_yreal_loss: 0.0109 - val_loss: 17.4370 - val_generator_loss: 17.1047 - val_generator_yfake_loss: 7.5308 - val_generator_yreal_loss: 9.5739 - val_discriminator_loss: 0.3323 - val_discriminator_yfake_loss: 0.2603 - val_discriminator_yreal_loss: 0.0720\n",
            "Epoch 100/100\n",
            "60000/60000 [==============================] - 32s 531us/step - loss: 22.0930 - generator_loss: 22.0747 - generator_yfake_loss: 10.6854 - generator_yreal_loss: 11.3893 - discriminator_loss: 0.0182 - discriminator_yfake_loss: 0.0094 - discriminator_yreal_loss: 0.0089 - val_loss: 17.1982 - val_generator_loss: 17.0576 - val_generator_yfake_loss: 8.3927 - val_generator_yreal_loss: 8.6649 - val_discriminator_loss: 0.1405 - val_discriminator_yfake_loss: 0.0413 - val_discriminator_yreal_loss: 0.0992\n"
          ],
          "name": "stdout"
        }
      ]
    },
    {
      "cell_type": "code",
      "metadata": {
        "id": "NoXLN0wX5oS1",
        "colab_type": "code",
        "outputId": "81a506eb-ee7e-41cd-967b-8cf8b571afd7",
        "colab": {
          "base_uri": "https://localhost:8080/",
          "height": 54
        }
      },
      "source": [
        "print(history.history.keys())"
      ],
      "execution_count": 19,
      "outputs": [
        {
          "output_type": "stream",
          "text": [
            "dict_keys(['val_loss', 'val_generator_loss', 'val_generator_yfake_loss', 'val_generator_yreal_loss', 'val_discriminator_loss', 'val_discriminator_yfake_loss', 'val_discriminator_yreal_loss', 'loss', 'generator_loss', 'generator_yfake_loss', 'generator_yreal_loss', 'discriminator_loss', 'discriminator_yfake_loss', 'discriminator_yreal_loss'])\n"
          ],
          "name": "stdout"
        }
      ]
    },
    {
      "cell_type": "code",
      "metadata": {
        "id": "o0QyVhAC5gJE",
        "colab_type": "code",
        "colab": {}
      },
      "source": [
        "#save models' weights\n",
        "generator.save(\"output/gan_convolutional/generator.h5\")\n",
        "discriminator.save(\"output/gan_convolutional/discriminator.h5\")"
      ],
      "execution_count": 0,
      "outputs": []
    }
  ]
}
