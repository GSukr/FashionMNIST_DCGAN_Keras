{
 "cells": [
  {
   "cell_type": "code",
   "execution_count": 1,
   "metadata": {},
   "outputs": [
    {
     "name": "stderr",
     "output_type": "stream",
     "text": [
      "Using TensorFlow backend.\n"
     ]
    }
   ],
   "source": [
    "import pandas as pd # for data handling\n",
    "import numpy as np # for linear algebra\n",
    "import tensorflow as tf # for neural networks\n",
    "import matplotlib.pyplot as plt\n",
    "import keras"
   ]
  },
  {
   "cell_type": "code",
   "execution_count": 2,
   "metadata": {},
   "outputs": [],
   "source": [
    "latent_dim = 100"
   ]
  },
  {
   "cell_type": "code",
   "execution_count": 3,
   "metadata": {},
   "outputs": [
    {
     "name": "stdout",
     "output_type": "stream",
     "text": [
      "x_train shape: (60000, 28, 28) , y_train shape: (60000,)\n",
      "x_test shape: (10000, 28, 28) , y_test shape: (10000,)\n",
      "Number of classes:  10\n",
      "x_train shape: (60000, 28, 28) , y_train shape: (60000,)\n",
      "x_test shape: (10000, 28, 28) , y_test shape: (10000,)\n"
     ]
    }
   ],
   "source": [
    "# get fashion mnist data\n",
    "(x_train,y_train), (x_test,y_test) = keras.datasets.fashion_mnist.load_data()\n",
    "\n",
    "# show shapes of tensors\n",
    "print(\"x_train shape:\", x_train.shape, \", y_train shape:\", y_train.shape)\n",
    "print(\"x_test shape:\", x_test.shape, \", y_test shape:\", y_test.shape)\n",
    "\n",
    "# get number of classes\n",
    "nClasses = len(np.unique(y_train)) # number of output classes\n",
    "print(\"Number of classes: \", nClasses)\n",
    "\n",
    "# normalize grayscale pixel values (0-255) to (0,1)\n",
    "x_train = x_train.astype('float32')/255 # normalized training inputs\n",
    "x_test = x_test.astype('float32')/255 # normalized test inputs\n",
    "\n",
    "# show shapes of re-shaped tensors\n",
    "print(\"x_train shape:\", x_train.shape, \", y_train shape:\", y_train.shape)\n",
    "print(\"x_test shape:\", x_test.shape, \", y_test shape:\", y_test.shape)"
   ]
  },
  {
   "cell_type": "code",
   "execution_count": 4,
   "metadata": {},
   "outputs": [],
   "source": [
    "#to build the GAN model\n",
    "from keras_adversarial import AdversarialModel, simple_gan, gan_targets\n",
    "from keras_adversarial import normal_latent_sampling, AdversarialOptimizerSimultaneous\n",
    "from keras_adversarial.legacy import fit\n",
    "import keras.backend as K\n",
    "from keras.layers import Conv2D, Flatten, Activation, Dense, UpSampling2D, Reshape, BatchNormalization, AveragePooling2D\n",
    "from keras.layers import BatchNormalization, Dropout\n",
    "from keras.optimizers import Adam\n",
    "from keras.initializers import TruncatedNormal\n",
    "from keras.models import Sequential\n",
    "from keras_adversarial.image_grid_callback import ImageGridCallback"
   ]
  },
  {
   "cell_type": "code",
   "execution_count": 5,
   "metadata": {},
   "outputs": [],
   "source": [
    "def model_generator():\n",
    "    model_g = keras.Sequential([\n",
    "        #first Dense Layer\n",
    "        Dense(3136,  input_shape=(100,), kernel_initializer=TruncatedNormal(stddev=0.02), bias_initializer=TruncatedNormal(stddev=0.02)),\n",
    "        BatchNormalization(epsilon=1e-5),\n",
    "        Activation('relu'),\n",
    "        Reshape([56, 56, 1]),\n",
    "\n",
    "        #convolutional layer 1\n",
    "        Conv2D(50, kernel_size = (3,3), strides=(2, 2), kernel_initializer=TruncatedNormal(stddev=0.02),bias_initializer=TruncatedNormal(stddev=0.02),  padding=\"same\"),\n",
    "        BatchNormalization(epsilon=1e-5),\n",
    "        Activation('relu'),\n",
    "        UpSampling2D(size=(2, 2)),\n",
    "\n",
    "        #convolutional layer 2\n",
    "        Conv2D(25, kernel_size = (3,3), strides=(2, 2), kernel_initializer=TruncatedNormal(stddev=0.02),bias_initializer=TruncatedNormal(stddev=0.02),  padding=\"same\"),\n",
    "        BatchNormalization(epsilon=1e-5),\n",
    "        Activation('relu'),\n",
    "        UpSampling2D(size=(2, 2)),\n",
    "\n",
    "        #convolutional layer 3\n",
    "        Conv2D(1, kernel_size=(1,1), strides=(2, 2), padding=\"same\", kernel_initializer=TruncatedNormal(stddev=0.02), bias_initializer=TruncatedNormal(stddev=0.02), activation =\"sigmoid\")],\n",
    "        name=\"generator\")\n",
    "    return model_g\n"
   ]
  },
  {
   "cell_type": "code",
   "execution_count": 6,
   "metadata": {},
   "outputs": [],
   "source": [
    "def model_discriminator():\n",
    "    model_d = keras.Sequential([\n",
    "        #convolutional layer 1\n",
    "        Conv2D(32, kernel_size = (5,5), strides=(1, 1), kernel_initializer=TruncatedNormal(stddev=0.02), padding=\"same\", input_shape=(28, 28, 1)),\n",
    "        Activation('relu'),\n",
    "        AveragePooling2D(pool_size=(2, 2), strides=(2, 2), padding=\"same\"),\n",
    "        \n",
    "        #convolutional layer 2\n",
    "        Conv2D(64, kernel_size = (5,5), strides=(1, 1), kernel_initializer=TruncatedNormal(stddev=0.02), padding=\"same\"),\n",
    "        Activation('relu'),\n",
    "        AveragePooling2D(pool_size=(2, 2), strides=(2, 2), padding=\"same\"),\n",
    "        \n",
    "        #first fully connected\n",
    "        Flatten(),\n",
    "        Dense(1024,  kernel_initializer=TruncatedNormal(stddev=0.02)),\n",
    "        Activation('relu'),\n",
    "        \n",
    "        #keras.layers.Lambda( lambda image: tf.image.resize_images(size =[56, 56, 1])),\n",
    "        #convolutional layer 3\n",
    "        Dense(1, kernel_initializer=TruncatedNormal(stddev=0.02)),\n",
    "        Activation('sigmoid')],\n",
    "        name=\"discriminator\")\n",
    "    return model_d\n",
    "\n"
   ]
  },
  {
   "cell_type": "code",
   "execution_count": 7,
   "metadata": {},
   "outputs": [],
   "source": [
    "def generator_sampler(latent_dim, generator):\n",
    "    def fun():\n",
    "        zsamples = np.random.normal(0, 1, size=(10 * 10, latent_dim))\n",
    "        gen = dim_ordering_unfix(generator.predict(zsamples))\n",
    "        return gen.reshape((10, 10, 28, 28))\n",
    "\n",
    "    return fun"
   ]
  },
  {
   "cell_type": "code",
   "execution_count": 8,
   "metadata": {},
   "outputs": [
    {
     "name": "stdout",
     "output_type": "stream",
     "text": [
      "WARNING:tensorflow:From /Users/Svitlana/Downloads/FashionMNIST/FashionMNIST/lib/python3.6/site-packages/tensorflow/python/framework/op_def_library.py:263: colocate_with (from tensorflow.python.framework.ops) is deprecated and will be removed in a future version.\n",
      "Instructions for updating:\n",
      "Colocations handled automatically by placer.\n",
      "WARNING:tensorflow:From /Users/Svitlana/Downloads/FashionMNIST/FashionMNIST/lib/python3.6/site-packages/keras/backend/tensorflow_backend.py:1264: calling reduce_prod_v1 (from tensorflow.python.ops.math_ops) with keep_dims is deprecated and will be removed in a future version.\n",
      "Instructions for updating:\n",
      "keep_dims is deprecated, use keepdims instead\n"
     ]
    }
   ],
   "source": [
    "# generator (z -> x)\n",
    "generator = model_generator()\n",
    "    # discriminator (x -> y)\n",
    "discriminator = model_discriminator()\n",
    "gan = simple_gan(generator, discriminator, normal_latent_sampling((latent_dim,)))"
   ]
  },
  {
   "cell_type": "code",
   "execution_count": 9,
   "metadata": {},
   "outputs": [
    {
     "name": "stdout",
     "output_type": "stream",
     "text": [
      "_________________________________________________________________\n",
      "Layer (type)                 Output Shape              Param #   \n",
      "=================================================================\n",
      "dense_1 (Dense)              (None, 3136)              316736    \n",
      "_________________________________________________________________\n",
      "batch_normalization_1 (Batch (None, 3136)              12544     \n",
      "_________________________________________________________________\n",
      "activation_1 (Activation)    (None, 3136)              0         \n",
      "_________________________________________________________________\n",
      "reshape_1 (Reshape)          (None, 56, 56, 1)         0         \n",
      "_________________________________________________________________\n",
      "conv2d_1 (Conv2D)            (None, 28, 28, 50)        500       \n",
      "_________________________________________________________________\n",
      "batch_normalization_2 (Batch (None, 28, 28, 50)        200       \n",
      "_________________________________________________________________\n",
      "activation_2 (Activation)    (None, 28, 28, 50)        0         \n",
      "_________________________________________________________________\n",
      "up_sampling2d_1 (UpSampling2 (None, 56, 56, 50)        0         \n",
      "_________________________________________________________________\n",
      "conv2d_2 (Conv2D)            (None, 28, 28, 25)        11275     \n",
      "_________________________________________________________________\n",
      "batch_normalization_3 (Batch (None, 28, 28, 25)        100       \n",
      "_________________________________________________________________\n",
      "activation_3 (Activation)    (None, 28, 28, 25)        0         \n",
      "_________________________________________________________________\n",
      "up_sampling2d_2 (UpSampling2 (None, 56, 56, 25)        0         \n",
      "_________________________________________________________________\n",
      "conv2d_3 (Conv2D)            (None, 28, 28, 1)         26        \n",
      "=================================================================\n",
      "Total params: 341,381\n",
      "Trainable params: 334,959\n",
      "Non-trainable params: 6,422\n",
      "_________________________________________________________________\n",
      "_________________________________________________________________\n",
      "Layer (type)                 Output Shape              Param #   \n",
      "=================================================================\n",
      "conv2d_4 (Conv2D)            (None, 28, 28, 32)        832       \n",
      "_________________________________________________________________\n",
      "activation_4 (Activation)    (None, 28, 28, 32)        0         \n",
      "_________________________________________________________________\n",
      "average_pooling2d_1 (Average (None, 14, 14, 32)        0         \n",
      "_________________________________________________________________\n",
      "conv2d_5 (Conv2D)            (None, 14, 14, 64)        51264     \n",
      "_________________________________________________________________\n",
      "activation_5 (Activation)    (None, 14, 14, 64)        0         \n",
      "_________________________________________________________________\n",
      "average_pooling2d_2 (Average (None, 7, 7, 64)          0         \n",
      "_________________________________________________________________\n",
      "flatten_1 (Flatten)          (None, 3136)              0         \n",
      "_________________________________________________________________\n",
      "dense_2 (Dense)              (None, 1024)              3212288   \n",
      "_________________________________________________________________\n",
      "activation_6 (Activation)    (None, 1024)              0         \n",
      "_________________________________________________________________\n",
      "dense_3 (Dense)              (None, 1)                 1025      \n",
      "_________________________________________________________________\n",
      "activation_7 (Activation)    (None, 1)                 0         \n",
      "=================================================================\n",
      "Total params: 3,265,409\n",
      "Trainable params: 3,265,409\n",
      "Non-trainable params: 0\n",
      "_________________________________________________________________\n",
      "__________________________________________________________________________________________________\n",
      "Layer (type)                    Output Shape         Param #     Connected to                     \n",
      "==================================================================================================\n",
      "conv2d_4_input (InputLayer)     (None, 28, 28, 1)    0                                            \n",
      "__________________________________________________________________________________________________\n",
      "lambda_1 (Lambda)               (None, 100)          0           conv2d_4_input[0][0]             \n",
      "__________________________________________________________________________________________________\n",
      "gan (Model)                     [(None, 1), (None, 1 3606790     lambda_1[0][0]                   \n",
      "                                                                 conv2d_4_input[0][0]             \n",
      "__________________________________________________________________________________________________\n",
      "yfake (Activation)              (None, 1)            0           gan[1][0]                        \n",
      "__________________________________________________________________________________________________\n",
      "yreal (Activation)              (None, 1)            0           gan[1][1]                        \n",
      "==================================================================================================\n",
      "Total params: 3,606,790\n",
      "Trainable params: 3,600,368\n",
      "Non-trainable params: 6,422\n",
      "__________________________________________________________________________________________________\n"
     ]
    }
   ],
   "source": [
    "generator.summary()\n",
    "discriminator.summary()\n",
    "gan.summary()"
   ]
  },
  {
   "cell_type": "code",
   "execution_count": 10,
   "metadata": {},
   "outputs": [],
   "source": [
    "model = AdversarialModel(base_model=gan,\n",
    "                             player_params=[generator.trainable_weights, discriminator.trainable_weights],\n",
    "                             player_names=[\"generator\", \"discriminator\"])\n",
    "model.adversarial_compile(adversarial_optimizer=AdversarialOptimizerSimultaneous(),\n",
    "                              player_optimizers=[Adam(0.0003, decay=1e-4), Adam(0.0003, decay=1e-4)],\n",
    "                              loss='binary_crossentropy')"
   ]
  },
  {
   "cell_type": "code",
   "execution_count": 11,
   "metadata": {},
   "outputs": [],
   "source": [
    "generator_cb = ImageGridCallback(\"output_blob/gan_convolutional/epoch-{:03d}.png\",\n",
    "                                     generator_sampler(latent_dim, generator))"
   ]
  },
  {
   "cell_type": "code",
   "execution_count": 12,
   "metadata": {},
   "outputs": [],
   "source": [
    "def dim_ordering_fix(x):\n",
    "    if K.image_dim_ordering() == 'th':\n",
    "        return x\n",
    "    else:\n",
    "        return np.transpose(x, (0, 2, 3, 1))\n",
    "    \n",
    "def dim_ordering_unfix(x):\n",
    "    if K.image_dim_ordering() == 'th':\n",
    "        return x\n",
    "    else:\n",
    "        return np.transpose(x, (0, 3, 1, 2))\n",
    "def dim_ordering_shape(input_shape):\n",
    "    if K.image_dim_ordering() == 'th':\n",
    "        return input_shape\n",
    "    else:\n",
    "        return (input_shape[1], input_shape[2], input_shape[0])"
   ]
  },
  {
   "cell_type": "code",
   "execution_count": 13,
   "metadata": {},
   "outputs": [],
   "source": [
    "xtrain = dim_ordering_fix(x_train.reshape((-1, 1, 28, 28)))\n",
    "xtest = dim_ordering_fix(x_test.reshape((-1, 1, 28, 28)))\n",
    "y = gan_targets(xtrain.shape[0])"
   ]
  },
  {
   "cell_type": "code",
   "execution_count": null,
   "metadata": {},
   "outputs": [],
   "source": [
    "ytest = gan_targets(xtest.shape[0])\n",
    "history = model.fit(x=xtrain, y=y, validation_data=(xtest, ytest), callbacks=[generator_cb], nb_epoch=100,\n",
    "                        batch_size=100)\n",
    "df = pd.DataFrame(history.history)\n",
    "df.to_csv(\"output_blob/gan_convolutional/history.csv\")"
   ]
  },
  {
   "cell_type": "code",
   "execution_count": 102,
   "metadata": {},
   "outputs": [],
   "source": [
    "generator.save(\"output_blob/gan_convolutional/generator.h5\")\n",
    "discriminator.save(\"output_blob/gan_convolutional/discriminator.h5\")"
   ]
  },
  {
   "cell_type": "code",
   "execution_count": 103,
   "metadata": {},
   "outputs": [
    {
     "name": "stdout",
     "output_type": "stream",
     "text": [
      "dict_keys(['val_loss', 'val_generator_loss', 'val_generator_yfake_loss', 'val_generator_yreal_loss', 'val_discriminator_loss', 'val_discriminator_yfake_loss', 'val_discriminator_yreal_loss', 'loss', 'generator_loss', 'generator_yfake_loss', 'generator_yreal_loss', 'discriminator_loss', 'discriminator_yfake_loss', 'discriminator_yreal_loss'])\n"
     ]
    }
   ],
   "source": [
    "print(history.history.keys())"
   ]
  },
  {
   "cell_type": "code",
   "execution_count": 105,
   "metadata": {},
   "outputs": [
    {
     "data": {
      "image/png": "[encoded data removed]",
      "text/plain": [
       "<Figure size 432x288 with 1 Axes>"
      ]
     },
     "metadata": {
      "needs_background": "light"
     },
     "output_type": "display_data"
    }
   ],
   "source": [
    "plt.plot(history.history['loss'])\n",
    "plt.plot(history.history['val_loss'])\n",
    "plt.title('model loss')\n",
    "plt.ylabel('loss')\n",
    "plt.xlabel('epoch')\n",
    "plt.legend(['train', 'test'], loc='upper left')\n",
    "plt.show()"
   ]
  }
 ],
 "metadata": {
  "kernelspec": {
   "display_name": "FashionMNIST",
   "language": "python",
   "name": "fashionmnist"
  },
  "language_info": {
   "codemirror_mode": {
    "name": "ipython",
    "version": 3
   },
   "file_extension": ".py",
   "mimetype": "text/x-python",
   "name": "python",
   "nbconvert_exporter": "python",
   "pygments_lexer": "ipython3",
   "version": "3.6.4"
  }
 },
 "nbformat": 4,
 "nbformat_minor": 2
}
